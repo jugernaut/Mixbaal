{
 "cells": [
  {
   "cell_type": "markdown",
   "metadata": {},
   "source": [
    "# Transferencia de calor por conducción en 1D: <font color=green>Diferencias finitas con un esquema explícito</font>\n",
    "\n",
    "**Trabajo realizado con el apoyo del Programa UNAM-DGAPA-PAPIME PE101019**\n",
    "\n",
    "*   Autores: \n",
    "    - Luis M. de la Cruz Salas\n",
    "*   Rev: mar nov 10 12:35:18 CDT 2020"
   ]
  },
  {
   "cell_type": "markdown",
   "metadata": {},
   "source": [
    "<img src=\"./images/matematicoCOMPLETO.png\" style=\"width: 300px;\"/>\n",
    "\n",
    "El modelo matemático de este problema consiste de la siguiente ecuación diferencial parcial:\n",
    "\n",
    "$\n",
    "\\frac{\\partial T}{\\partial t} = \\frac{\\partial}{\\partial x} \\left(\\kappa \\frac{\\partial T}{\\partial x}\\right)\n",
    "$\n",
    "\n",
    "En este caso se busca una función que dependa de la posición y del tiempo: $T(x,t)$"
   ]
  },
  {
   "cell_type": "markdown",
   "metadata": {},
   "source": [
    "<img src=\"./images/numericoCOMPLETO.png\" style=\"width: 300px;\"/>\n",
    "\n",
    "Vamos a resolver este problema usando el método de diferencias finitas (FDM, por sus siglas en inglés), de tal manera que, aproximando los términos de la ecuación de este modelo y usando un esquema **explícito** tenemos lo siguiente:\n",
    "\n",
    "$\n",
    "T^{n+1}_{i} = T^{n}_{i} + \\frac{\\Delta t}{\\Delta x^2} \\kappa \\left(T^{n}_{i-1} - 2 T^{n}_{i} + T^{n}_{i-1} \\right), \\text{ para } i = 1, \\dots, N \\text{ y } n = 1, \\dots, \\text{Tmax}.\n",
    "$\n",
    "\n",
    "donde se realizaron las siguiente aproximaciones:\n",
    "$\n",
    "\\frac{\\partial T}{\\partial t} \\approx  \\frac{T^{n+1}_{i} - T^{n}_{i}}{\\Delta t}\n",
    "\\quad\n",
    "y\n",
    "\\quad\n",
    "\\frac{\\partial}{\\partial x} \\left(\\kappa \\frac{\\partial T}{\\partial x}\\right) \\approx  \\kappa \\frac{T^{n}_{i-1} - 2 T^{n}_{i} + T^{n}_{i-1}}{\\Delta x^2}\n",
    "$\n",
    "\n",
    "\n",
    "La relación de recurrencia anterior indica que se puede aproximar la temperatura en el nodo $i$ y en el instante $n+1$, mediante los valores de la temperatura en los nodos $i$, $i+1$ e $i-1$ calculados en un instante anterior $n$, es decir con cantidades que ya se conocen de antemano. Esto se puede ver en la siguiente figura:\n",
    "\n",
    "<img src=\"./images/Stencil1D_DF_02.png\" style=\"width: 600px;\"/>\n"
   ]
  },
  {
   "cell_type": "markdown",
   "metadata": {},
   "source": [
    "<img src=\"./images/computacionalCOMPLETO.png\" style=\"width: 450px;\"/>\n",
    "\n",
    "Con toda la información anterior, vamos a implementar un algoritmo para obtener la temperatura de la barra en sus puntos interiores y en los instantes de tiempo $n = 1, \\dots, $Tmax ."
   ]
  },
  {
   "cell_type": "code",
   "execution_count": 1,
   "metadata": {},
   "outputs": [],
   "source": [
    "#-----------------------------------------------------------\n",
    "# PARA DEFINIR EL PATH ABSOLUTO DE LOS MÓDULOS DE PYNOXTLI\n",
    "#\n",
    "import os, sys\n",
    "sys.path.insert(0, os.path.abspath('../../base'))\n",
    "#-----------------------------------------------------------"
   ]
  },
  {
   "cell_type": "code",
   "execution_count": 2,
   "metadata": {},
   "outputs": [],
   "source": [
    "import numpy as np\n",
    "#\n",
    "# Importamos los módulos necesarios de PyNoxtli.\n",
    "#\n",
    "from geo.line import Line\n",
    "from utils.displayInfo import printInfo\n",
    "import vis.flowix as flx"
   ]
  },
  {
   "cell_type": "code",
   "execution_count": 3,
   "metadata": {},
   "outputs": [],
   "source": [
    "#\n",
    "# Primero definimos las propiedades física y geométricas de la barra:\n",
    "#\n",
    "longitud = 0.5 # metros\n",
    "TA = 100 # °C\n",
    "TB = 500 # °C\n",
    "k  = 1000 # Conductividad térmica, W/m.K\n",
    "N  = 6 # Número de nodos\n",
    "dt = 0.000001\n",
    "Tmax = 50 # Número de pasos en el tiempo"
   ]
  },
  {
   "cell_type": "code",
   "execution_count": 4,
   "metadata": {},
   "outputs": [],
   "source": [
    "#\n",
    "# Definición del dominio y condiciones de frontera\n",
    "#\n",
    "barra = Line(longitud) # Creación de la barra\n",
    "barra.boundaryConditions(dirichlet = {'LEFT':TA, 'RIGHT':TB}) # Definición de las condiciones de frontera\n",
    "\n",
    "malla = barra.constructMesh(N) # Se construye una malla genérica con el número de nodos\n",
    "dx = malla.dx # Separación entre los puntos de la malla"
   ]
  },
  {
   "cell_type": "code",
   "execution_count": 5,
   "metadata": {},
   "outputs": [
    {
     "name": "stdout",
     "output_type": "stream",
     "text": [
      ".--------------------------------------------------------------------------------.\n",
      "|              PyNoxtli : Ver. 0.2, LMCS-2020, [GNU GPL License V3]              |\n",
      ".--------------------------------------------------------------------------------.\n",
      "|       Longitud = 5.000000000000000e-01                                         |\n",
      "|  Temperatura_A =    100                                                        |\n",
      "|  Temperatura_B =    500                                                        |\n",
      "|  Conductividad =    1000                                                       |\n",
      "|          Nodos =     6                                                         |\n",
      "|      Volúmenes =     5                                                         |\n",
      "|             dx = 1.000000000000000e-01                                         |\n",
      "|  Paso_de_tiemp = 1.000000000000000e-06                                         |\n",
      "|Número_de_pasos =     50                                                        |\n",
      ".--------------------------------------------------------------------------------.\n"
     ]
    }
   ],
   "source": [
    "#\n",
    "# Imprimimos en pantalla los valores de cada parámetro\n",
    "#\n",
    "printInfo(Longitud = longitud,\n",
    "          Temperatura_A = TA,\n",
    "          Temperatura_B = TB,\n",
    "          Conductividad = k,\n",
    "          Nodos = malla.nx,\n",
    "          Volúmenes = malla.vx,\n",
    "          dx = malla.dx,\n",
    "          Paso_de_tiemp = dt,\n",
    "          Número_de_pasos = Tmax)"
   ]
  },
  {
   "cell_type": "code",
   "execution_count": 6,
   "metadata": {},
   "outputs": [
    {
     "data": {
      "image/png": "[encoded data removed]",
      "text/plain": [
       "<Figure size 432x288 with 2 Axes>"
      ]
     },
     "metadata": {
      "needs_background": "light"
     },
     "output_type": "display_data"
    }
   ],
   "source": [
    "#\n",
    "# Arreglo para almacenar la solución\n",
    "#\n",
    "T = np.zeros(malla.nx) # El arreglo contiene ceros inicialmente\n",
    "#\n",
    "# Condiciones de frontera\n",
    "#\n",
    "T[0]  = TA        # Condición de frontera izquierda\n",
    "T[-1] = TB        # Condición de frontera derecha\n",
    "#\n",
    "# Se generan las coordenadas de la malla para FDM\n",
    "#\n",
    "x, _, _ = malla.coordinatesMeshFDM()\n",
    "#\n",
    "# Definimos algunos parámetros para los ejes de la solución.\n",
    "#\n",
    "param_ejes = [{'title':'Solución Numérica', 'xlabel':'x [m]', 'ylabel':'T [$^o$C]'}]\n",
    "#\n",
    "# Vamos a generar dos conjuntos de ejes, uno para la malla y otro para la solución.\n",
    "#\n",
    "v = flx.Plotter(2,1,param_ejes)\n",
    "#\n",
    "# Se grafica la malla en los ejes de etiqueta 2.\n",
    "#\n",
    "v.plot_mesh(2, malla, vol='.', nod = 's', label=True)\n",
    "#\n",
    "# En los ejes de etiqueta 1 se hace la gráfica de la condición inicial.\n",
    "#\n",
    "v.plot(1,x,T,{'marker':'', 'lw':2.0,'color':'k', 'label':'Cond. inicial'})\n",
    "#\n",
    "# Se calcula el coeficiente usado en la relación de recurrencia\n",
    "#\n",
    "c = k * dt / (dx * dx)\n",
    "#\n",
    "# Se obtiene la solución para cada punto y para cada paso de tiempo\n",
    "# usando la relación de recurrencia.\n",
    "#\n",
    "Nfreq = 10\n",
    "for t in range(1,Tmax):\n",
    "    for i in range(1,N-1):\n",
    "        T[i] = T[i] + c * (T[i-1] - 2 * T[i] + T[i+1])\n",
    "    #\n",
    "    # Solo se hace una gráfica cada 5 pasos de tiempo\n",
    "    #\n",
    "    if not(t % 5):\n",
    "        v.plot(1,x,T,{'marker':'o','ls':'-', 'lw':0.5})\n",
    "#\n",
    "# Se grafica la solución en el paso de tiempo final.\n",
    "#\n",
    "v.plot(1,x,T,{'marker':'o','ls':'-', 'lw':2.0, 'color':'r', 'label':'Sol. final'})\n",
    "#\n",
    "# Se muestran todas las gráficas\n",
    "#\n",
    "v.legend()\n",
    "v.show()"
   ]
  },
  {
   "cell_type": "code",
   "execution_count": null,
   "metadata": {},
   "outputs": [],
   "source": []
  }
 ],
 "metadata": {
  "kernelspec": {
   "display_name": "Python 3",
   "language": "python",
   "name": "python3"
  },
  "language_info": {
   "codemirror_mode": {
    "name": "ipython",
    "version": 3
   },
   "file_extension": ".py",
   "mimetype": "text/x-python",
   "name": "python",
   "nbconvert_exporter": "python",
   "pygments_lexer": "ipython3",
   "version": "3.8.5"
  }
 },
 "nbformat": 4,
 "nbformat_minor": 4
}
