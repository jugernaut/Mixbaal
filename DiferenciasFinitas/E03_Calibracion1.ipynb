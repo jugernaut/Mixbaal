{
 "cells": [
  {
   "cell_type": "markdown",
   "metadata": {},
   "source": [
    "# Conducción estacionaria\n",
    "\n",
    "**Trabajo realizado con el apoyo del Programa UNAM-DGAPA-PAPIME PE101019**\n",
    "\n",
    "- Autor: Luis M. de la Cruz Salas\n",
    "- Rev: mié 24 feb 2021 14:41:27 CST"
   ]
  },
  {
   "cell_type": "code",
   "execution_count": null,
   "metadata": {},
   "outputs": [],
   "source": [
    "import numpy as np\n",
    "import matplotlib.pyplot as plt\n",
    "\n",
    "# Parámetros para el estilo de las gráficas\n",
    "plt.style.use('seaborn-paper')\n",
    "params = {'figure.figsize' : (14,7),\n",
    "          'text.usetex'    : True,\n",
    "          'xtick.labelsize': 20,\n",
    "          'ytick.labelsize': 20,\n",
    "          'axes.labelsize' : 24,\n",
    "          'axes.titlesize' : 24,\n",
    "          'legend.fontsize': 24,\n",
    "          'lines.linewidth': 3,\n",
    "          'lines.markersize': 10,\n",
    "          'grid.color'     : 'darkgray',\n",
    "          'grid.linewidth' : 0.5,\n",
    "          'grid.linestyle' : '--',\n",
    "          'font.family': 'DejaVu Serif',\n",
    "         }\n",
    "plt.rcParams.update(params)"
   ]
  },
  {
   "cell_type": "code",
   "execution_count": null,
   "metadata": {},
   "outputs": [],
   "source": [
    "def buildMatrix(N, d):\n",
    "    '''\n",
    "    Parameters:\n",
    "    N: int Tamaño de la matriz.\n",
    "    d: float Contenido de la diagonal.\n",
    "    '''\n",
    "    # Matriz de ceros\n",
    "    A = np.zeros((N,N))\n",
    "    \n",
    "    # Primer renglón\n",
    "    A[0,0] = d\n",
    "    A[0,1] = -1\n",
    "    \n",
    "    # Renglones interiores\n",
    "    for i in range(1,N-1):\n",
    "        A[i,i] = d\n",
    "        A[i,i+1] = -1\n",
    "        A[i,i-1] = -1\n",
    "    \n",
    "    # Último renglón\n",
    "    A[N-1,N-2] = -1\n",
    "    A[N-1,N-1] = d\n",
    "    \n",
    "    return A"
   ]
  },
  {
   "cell_type": "code",
   "execution_count": null,
   "metadata": {},
   "outputs": [],
   "source": [
    "# AGREGA TU CÓDIGO\n",
    "# Parámetros físicos: L, TA, TB, k, S, w\n",
    "\n",
    "\n",
    "# Parámetros numéricos: N, h, r \n"
   ]
  },
  {
   "cell_type": "code",
   "execution_count": null,
   "metadata": {},
   "outputs": [],
   "source": [
    "# AGREGA TU CÓDIGO\n",
    "# Arreglo para almacenar la solución\n",
    "\n",
    "\n",
    "# Lado derecho del sistema\n",
    "\n",
    "\n",
    "# Construcción de la matriz\n",
    "\n",
    "\n",
    "# Solución del sistema lineal\n",
    "\n",
    "\n",
    "# Impresión y graficación de la solución\n",
    "print('T = ', T)\n",
    "x = np.linspace(0, L, N+2)\n",
    "plt.figure(figsize=(10,7))\n",
    "plt.plot(x, T, c='grey', lw=2.0)\n",
    "plt.scatter(x, T, edgecolor='k', zorder= 10)\n",
    "plt.xlabel('$x$')\n",
    "plt.ylabel('$T$')\n",
    "plt.grid()\n",
    "plt.show()"
   ]
  },
  {
   "cell_type": "code",
   "execution_count": null,
   "metadata": {},
   "outputs": [],
   "source": [
    "# Agrega la función: def solExact(x, w):\n"
   ]
  },
  {
   "cell_type": "code",
   "execution_count": null,
   "metadata": {},
   "outputs": [],
   "source": [
    "# Agrega el cálculo del error: \n"
   ]
  },
  {
   "cell_type": "code",
   "execution_count": null,
   "metadata": {},
   "outputs": [],
   "source": [
    "#\n",
    "# El código siguiente realiza las gráficas usando lo calculado en las celdas anteriores\n",
    "#\n",
    "titulo = 'Ecuación : $\\partial^2 u(x)/\\partial x^2 = \\omega^2 u(x); \\,\\,\\, u(a) = u(b) = 1$'\n",
    "numerica = 'Sol. Numérica : $E(h = %g) = %g$' % (h, Error)\n",
    "exacta = 'Sol. Analítica : $u(x) = \\\\frac{1 - \\cos(\\omega)}{\\sin(\\omega)} \\sin(\\omega x) + \\cos(\\omega x)$'\n",
    "\n",
    "plt.figure(figsize=(10,7))\n",
    "xsol = np.linspace(0,1,100)\n",
    "plt.plot(xsol, solExact(xsol,w),'r-', label=exacta)\n",
    "plt.scatter(x, T, edgecolor='k', zorder= 10, label=numerica)\n",
    "plt.title(titulo)\n",
    "plt.xlabel('$x$')\n",
    "plt.ylabel('$T$')\n",
    "plt.ylim(-2.0,3.0)\n",
    "plt.legend(loc='upper center', fontsize=18)\n",
    "plt.grid()\n",
    "plt.savefig('calibracion1_e.pdf')\n",
    "plt.show()"
   ]
  },
  {
   "cell_type": "code",
   "execution_count": null,
   "metadata": {},
   "outputs": [],
   "source": []
  }
 ],
 "metadata": {
  "kernelspec": {
   "display_name": "Python 3",
   "language": "python",
   "name": "python3"
  },
  "language_info": {
   "codemirror_mode": {
    "name": "ipython",
    "version": 3
   },
   "file_extension": ".py",
   "mimetype": "text/x-python",
   "name": "python",
   "nbconvert_exporter": "python",
   "pygments_lexer": "ipython3",
   "version": "3.8.5"
  }
 },
 "nbformat": 4,
 "nbformat_minor": 4
}
