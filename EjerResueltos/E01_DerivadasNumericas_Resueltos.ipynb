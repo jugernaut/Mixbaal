{
 "cells": [
  {
   "cell_type": "markdown",
   "metadata": {},
   "source": [
    "# Cálculo de derivadas numéricas\n",
    "\n",
    "**Trabajo realizado con el apoyo del Programa UNAM-DGAPA-PAPIME PE101019**\n",
    "\n",
    "- Autor: Luis M. de la Cruz Salas\n",
    "- Rev: lun jul  6 19:29:17 CDT 2020"
   ]
  },
  {
   "cell_type": "code",
   "execution_count": 1,
   "metadata": {},
   "outputs": [],
   "source": [
    "import numpy as np\n",
    "import pandas as pd\n",
    "import matplotlib.pyplot as plt\n",
    "\n",
    "# Parámetros para el estilo de las gráficas\n",
    "plt.style.use('seaborn-paper')\n",
    "params = {'figure.figsize' : (10,7),\n",
    "          'text.usetex'    : True,\n",
    "          'xtick.labelsize': 20,\n",
    "          'ytick.labelsize': 20,\n",
    "          'axes.labelsize' : 24,\n",
    "          'axes.titlesize' : 24,\n",
    "          'legend.fontsize': 24,\n",
    "          'lines.linewidth': 3,\n",
    "          'lines.markersize': 10,\n",
    "          'grid.color'     : 'darkgray',\n",
    "          'grid.linewidth' : 0.5,\n",
    "          'grid.linestyle' : '--',\n",
    "          'font.family': 'DejaVu Serif',\n",
    "         }\n",
    "plt.rcParams.update(params)"
   ]
  },
  {
   "cell_type": "markdown",
   "metadata": {},
   "source": [
    "Definimos un arreglo con $N$ diferentes tamaños de $h$:"
   ]
  },
  {
   "cell_type": "code",
   "execution_count": 2,
   "metadata": {},
   "outputs": [
    {
     "name": "stdout",
     "output_type": "stream",
     "text": [
      "h = [0.1   0.05  0.01  0.005 0.001]\n",
      "x = [1. 1. 1. 1. 1.]\n"
     ]
    }
   ],
   "source": [
    "h = np.asarray([0.1, 0.05, 0.01, 0.005, 0.001])\n",
    "N = len(h)\n",
    "x = np.ones(N)\n",
    "print('h = {}'.format(h))\n",
    "print('x = {}'.format(x))"
   ]
  },
  {
   "cell_type": "markdown",
   "metadata": {},
   "source": [
    "### Aproximación de la primera derivada usando diferencias finitas hacia adelante (Forward):\n",
    "\n",
    "$\n",
    "\\displaystyle\n",
    "\\dfrac{\\partial u(x)}{\\partial x} \\approx \\lim\\limits_{h\\to 0} \\frac{u(x+h) - u(x)}{h}\n",
    "$"
   ]
  },
  {
   "cell_type": "code",
   "execution_count": 3,
   "metadata": {},
   "outputs": [],
   "source": [
    "def forwardFD(u,x,h):\n",
    "    \"\"\" \n",
    "    Esquema de diferencias finitas hacia adelante.\n",
    "    \n",
    "    Parameters\n",
    "    ----------\n",
    "    u : función. \n",
    "    Función a evaluar.\n",
    "    \n",
    "    x : array\n",
    "    Lugar(es) donde se evalúa la función\n",
    "    \n",
    "    h : array\n",
    "    Tamaño(s) de la diferencia entre u(x+h) y u(x).\n",
    "    \n",
    "    Returns\n",
    "    -------\n",
    "    Cálculo de la derivada numérica hacia adelante.\n",
    "    \"\"\"\n",
    "    return (u(x+h)-u(x))/h"
   ]
  },
  {
   "cell_type": "code",
   "execution_count": 4,
   "metadata": {},
   "outputs": [
    {
     "data": {
      "text/html": [
       "<div>\n",
       "<style scoped>\n",
       "    .dataframe tbody tr th:only-of-type {\n",
       "        vertical-align: middle;\n",
       "    }\n",
       "\n",
       "    .dataframe tbody tr th {\n",
       "        vertical-align: top;\n",
       "    }\n",
       "\n",
       "    .dataframe thead th {\n",
       "        text-align: right;\n",
       "    }\n",
       "</style>\n",
       "<table border=\"1\" class=\"dataframe\">\n",
       "  <thead>\n",
       "    <tr style=\"text-align: right;\">\n",
       "      <th></th>\n",
       "      <th>$h$</th>\n",
       "      <th>$D_+$</th>\n",
       "    </tr>\n",
       "  </thead>\n",
       "  <tbody>\n",
       "    <tr>\n",
       "      <th>0</th>\n",
       "      <td>0.100</td>\n",
       "      <td>0.042939</td>\n",
       "    </tr>\n",
       "    <tr>\n",
       "      <th>1</th>\n",
       "      <td>0.050</td>\n",
       "      <td>0.021257</td>\n",
       "    </tr>\n",
       "    <tr>\n",
       "      <th>2</th>\n",
       "      <td>0.010</td>\n",
       "      <td>0.004216</td>\n",
       "    </tr>\n",
       "    <tr>\n",
       "      <th>3</th>\n",
       "      <td>0.005</td>\n",
       "      <td>0.002106</td>\n",
       "    </tr>\n",
       "    <tr>\n",
       "      <th>4</th>\n",
       "      <td>0.001</td>\n",
       "      <td>0.000421</td>\n",
       "    </tr>\n",
       "  </tbody>\n",
       "</table>\n",
       "</div>"
      ],
      "text/plain": [
       "     $h$     $D_+$\n",
       "0  0.100  0.042939\n",
       "1  0.050  0.021257\n",
       "2  0.010  0.004216\n",
       "3  0.005  0.002106\n",
       "4  0.001  0.000421"
      ]
     },
     "execution_count": 4,
     "metadata": {},
     "output_type": "execute_result"
    }
   ],
   "source": [
    "# Calculamos el error entre la derivada exacta y la derivada numérica \n",
    "# usando diferencias finitas hacia adelante:\n",
    "ef = np.fabs( np.cos(x) - forwardFD(np.sin, x, h) )\n",
    "\n",
    "# Colocamos la información de h y del error en un Dataframe y mostramos el resultado:\n",
    "Error = pd.DataFrame(np.array([h, ef]).transpose(), \n",
    "                     columns=['$h$','$D_+$'])\n",
    "Error"
   ]
  },
  {
   "cell_type": "code",
   "execution_count": 5,
   "metadata": {},
   "outputs": [
    {
     "data": {
      "image/png": "[encoded data removed]",
      "text/plain": [
       "<Figure size 720x504 with 1 Axes>"
      ]
     },
     "metadata": {
      "needs_background": "light"
     },
     "output_type": "display_data"
    }
   ],
   "source": [
    "# Hacemos el gráfico del error vs h:\n",
    "plt.plot(h, ef, 'o-', label='$D_+$')\n",
    "plt.xlabel('$h$')\n",
    "plt.ylabel('Error')\n",
    "plt.title('Aproximación de la derivada')\n",
    "plt.legend()\n",
    "plt.grid()\n",
    "plt.show()"
   ]
  },
  {
   "cell_type": "markdown",
   "metadata": {},
   "source": [
    "### Aproximación de la primera derivada usando diferencias finitas hacia atrás (Backward):\n",
    "\n",
    "$\n",
    "\\displaystyle\n",
    "\\frac{\\partial u(x)}{\\partial x} \\approx \\lim\\limits_{h\\to 0} \\frac{u(x) - u(x-h)}{h}\n",
    "$"
   ]
  },
  {
   "cell_type": "code",
   "execution_count": 6,
   "metadata": {},
   "outputs": [],
   "source": [
    "def backwardFD(u,x,h):\n",
    "    \"\"\" \n",
    "    Esquema de diferencias finitas hacia atrás.\n",
    "    \n",
    "    Parameters\n",
    "    ----------\n",
    "    u : función. \n",
    "    Función a evaluar.\n",
    "    \n",
    "    x : array\n",
    "    Lugar(es) donde se evalúa la función\n",
    "    \n",
    "    h : array\n",
    "    Tamaño(s) de la diferencia entre u(x+h) y u(x).\n",
    "    \n",
    "    Returns\n",
    "    -------\n",
    "    Cálculo de la derivada numérica hacia atrás.\n",
    "    \"\"\"\n",
    "    return (u(x)-u(x-h))/h"
   ]
  },
  {
   "cell_type": "code",
   "execution_count": 7,
   "metadata": {},
   "outputs": [
    {
     "data": {
      "text/html": [
       "<div>\n",
       "<style scoped>\n",
       "    .dataframe tbody tr th:only-of-type {\n",
       "        vertical-align: middle;\n",
       "    }\n",
       "\n",
       "    .dataframe tbody tr th {\n",
       "        vertical-align: top;\n",
       "    }\n",
       "\n",
       "    .dataframe thead th {\n",
       "        text-align: right;\n",
       "    }\n",
       "</style>\n",
       "<table border=\"1\" class=\"dataframe\">\n",
       "  <thead>\n",
       "    <tr style=\"text-align: right;\">\n",
       "      <th></th>\n",
       "      <th>$h$</th>\n",
       "      <th>$D_+$</th>\n",
       "      <th>$D_-$</th>\n",
       "    </tr>\n",
       "  </thead>\n",
       "  <tbody>\n",
       "    <tr>\n",
       "      <th>0</th>\n",
       "      <td>0.100</td>\n",
       "      <td>0.042939</td>\n",
       "      <td>0.041138</td>\n",
       "    </tr>\n",
       "    <tr>\n",
       "      <th>1</th>\n",
       "      <td>0.050</td>\n",
       "      <td>0.021257</td>\n",
       "      <td>0.020807</td>\n",
       "    </tr>\n",
       "    <tr>\n",
       "      <th>2</th>\n",
       "      <td>0.010</td>\n",
       "      <td>0.004216</td>\n",
       "      <td>0.004198</td>\n",
       "    </tr>\n",
       "    <tr>\n",
       "      <th>3</th>\n",
       "      <td>0.005</td>\n",
       "      <td>0.002106</td>\n",
       "      <td>0.002101</td>\n",
       "    </tr>\n",
       "    <tr>\n",
       "      <th>4</th>\n",
       "      <td>0.001</td>\n",
       "      <td>0.000421</td>\n",
       "      <td>0.000421</td>\n",
       "    </tr>\n",
       "  </tbody>\n",
       "</table>\n",
       "</div>"
      ],
      "text/plain": [
       "     $h$     $D_+$     $D_-$\n",
       "0  0.100  0.042939  0.041138\n",
       "1  0.050  0.021257  0.020807\n",
       "2  0.010  0.004216  0.004198\n",
       "3  0.005  0.002106  0.002101\n",
       "4  0.001  0.000421  0.000421"
      ]
     },
     "execution_count": 7,
     "metadata": {},
     "output_type": "execute_result"
    }
   ],
   "source": [
    "# Calculamos el error entre la derivada exacta y la derivada numérica \n",
    "# usando diferencias finitas hacia atrás:\n",
    "eb = np.fabs( np.cos(x) - backwardFD(np.sin,x,h) )\n",
    "\n",
    "# Metemos la información de h y de los errores en un Dataframe y mostramos el resultado:\n",
    "Error = pd.DataFrame(np.array([h, ef, eb]).transpose(), \n",
    "                     columns=['$h$','$D_+$', '$D_-$'])\n",
    "Error"
   ]
  },
  {
   "cell_type": "code",
   "execution_count": 8,
   "metadata": {},
   "outputs": [
    {
     "data": {
      "image/png": "[encoded data removed]",
      "text/plain": [
       "<Figure size 720x504 with 1 Axes>"
      ]
     },
     "metadata": {
      "needs_background": "light"
     },
     "output_type": "display_data"
    }
   ],
   "source": [
    "# Hacemos el gráfico de los errores vs h\n",
    "plt.plot(h, ef, 'o-', label='$D_+$')\n",
    "plt.plot(h, eb, 'v-', label='$D_-$')\n",
    "plt.xlabel('$h$')\n",
    "plt.ylabel('Error')\n",
    "plt.title('Aproximación de la derivada')\n",
    "plt.legend()\n",
    "plt.grid()\n",
    "plt.show()"
   ]
  },
  {
   "cell_type": "markdown",
   "metadata": {},
   "source": [
    "### Aproximación de la primera derivada usando diferencias finitas hacía centradas (Centered):\n",
    "\n",
    "$\n",
    "\\displaystyle\n",
    "\\frac{\\partial u(x)}{\\partial x} \\approx \\lim\\limits_{h\\to 0} \\frac{u(x+h) - u(x-h)}{2h}\n",
    "$"
   ]
  },
  {
   "cell_type": "code",
   "execution_count": 9,
   "metadata": {},
   "outputs": [],
   "source": [
    "def centeredFD(u,x,h):\n",
    "    \"\"\" \n",
    "    Esquema de diferencias finitas centradas.\n",
    "    \n",
    "    Parameters\n",
    "    ----------\n",
    "    u : función. \n",
    "    Función a evaluar.\n",
    "    \n",
    "    x : array\n",
    "    Lugar(es) donde se evalúa la función\n",
    "    \n",
    "    h : array\n",
    "    Tamaño(s) de la diferencia entre u(x+h) y u(x).\n",
    "    \n",
    "    Returns\n",
    "    -------\n",
    "    Cálculo de la derivada numérica centrada.\n",
    "    \"\"\"\n",
    "    return (u(x+h)-u(x-h))/(2*h)"
   ]
  },
  {
   "cell_type": "code",
   "execution_count": 10,
   "metadata": {},
   "outputs": [
    {
     "data": {
      "text/html": [
       "<div>\n",
       "<style scoped>\n",
       "    .dataframe tbody tr th:only-of-type {\n",
       "        vertical-align: middle;\n",
       "    }\n",
       "\n",
       "    .dataframe tbody tr th {\n",
       "        vertical-align: top;\n",
       "    }\n",
       "\n",
       "    .dataframe thead th {\n",
       "        text-align: right;\n",
       "    }\n",
       "</style>\n",
       "<table border=\"1\" class=\"dataframe\">\n",
       "  <thead>\n",
       "    <tr style=\"text-align: right;\">\n",
       "      <th></th>\n",
       "      <th>$h$</th>\n",
       "      <th>$D_+$</th>\n",
       "      <th>$D_-$</th>\n",
       "      <th>$D_0$</th>\n",
       "    </tr>\n",
       "  </thead>\n",
       "  <tbody>\n",
       "    <tr>\n",
       "      <th>0</th>\n",
       "      <td>0.100</td>\n",
       "      <td>0.042939</td>\n",
       "      <td>0.041138</td>\n",
       "      <td>9.000537e-04</td>\n",
       "    </tr>\n",
       "    <tr>\n",
       "      <th>1</th>\n",
       "      <td>0.050</td>\n",
       "      <td>0.021257</td>\n",
       "      <td>0.020807</td>\n",
       "      <td>2.250978e-04</td>\n",
       "    </tr>\n",
       "    <tr>\n",
       "      <th>2</th>\n",
       "      <td>0.010</td>\n",
       "      <td>0.004216</td>\n",
       "      <td>0.004198</td>\n",
       "      <td>9.004993e-06</td>\n",
       "    </tr>\n",
       "    <tr>\n",
       "      <th>3</th>\n",
       "      <td>0.005</td>\n",
       "      <td>0.002106</td>\n",
       "      <td>0.002101</td>\n",
       "      <td>2.251257e-06</td>\n",
       "    </tr>\n",
       "    <tr>\n",
       "      <th>4</th>\n",
       "      <td>0.001</td>\n",
       "      <td>0.000421</td>\n",
       "      <td>0.000421</td>\n",
       "      <td>9.005045e-08</td>\n",
       "    </tr>\n",
       "  </tbody>\n",
       "</table>\n",
       "</div>"
      ],
      "text/plain": [
       "     $h$     $D_+$     $D_-$         $D_0$\n",
       "0  0.100  0.042939  0.041138  9.000537e-04\n",
       "1  0.050  0.021257  0.020807  2.250978e-04\n",
       "2  0.010  0.004216  0.004198  9.004993e-06\n",
       "3  0.005  0.002106  0.002101  2.251257e-06\n",
       "4  0.001  0.000421  0.000421  9.005045e-08"
      ]
     },
     "execution_count": 10,
     "metadata": {},
     "output_type": "execute_result"
    }
   ],
   "source": [
    "# Calculamos el error entre la derivada exacta y la derivada numérica \n",
    "# usando diferencias finitas centradas:\n",
    "ec = np.fabs( np.cos(x) - centeredFD(np.sin,x,h) )\n",
    "\n",
    "# Metemos la información de h y de los errores en un Dataframe y mostramos el resultado:\n",
    "Error = pd.DataFrame(np.array([h,ef,eb,ec]).transpose(), \n",
    "                     columns=['$h$','$D_+$', '$D_-$','$D_0$'])\n",
    "Error"
   ]
  },
  {
   "cell_type": "markdown",
   "metadata": {},
   "source": [
    "Observe la diferencia entre los errores de $D_+$, $D_-$ y $D_0$. Para hacer una gráfica más representativa de estos errores usaremos escala log-log:"
   ]
  },
  {
   "cell_type": "code",
   "execution_count": 11,
   "metadata": {},
   "outputs": [
    {
     "data": {
      "image/png": "[encoded data removed]",
      "text/plain": [
       "<Figure size 720x504 with 1 Axes>"
      ]
     },
     "metadata": {
      "needs_background": "light"
     },
     "output_type": "display_data"
    }
   ],
   "source": [
    "# Hacemos el gráfico de los errores vs h\n",
    "plt.plot(h, ef, 'o-', label='$D_+$')\n",
    "plt.plot(h, eb, 'v-', label='$D_-$')\n",
    "plt.plot(h, ec, 's-', label='$D_0$')\n",
    "plt.xlabel('$h$')\n",
    "plt.ylabel('$Error$')\n",
    "plt.title('Aproximación de la derivada')\n",
    "plt.legend()\n",
    "plt.loglog()  # Definimos la escala log-log\n",
    "plt.grid()\n",
    "plt.show()"
   ]
  },
  {
   "cell_type": "markdown",
   "metadata": {},
   "source": [
    "Como se puede apreciar, la gráfica anterior muestra que la aproximación con diferencias finitas centradas es mejor, pues es de orden cuadrático."
   ]
  },
  {
   "cell_type": "markdown",
   "metadata": {},
   "source": [
    "# Ejercicio.\n",
    "Implementar $D_{-2}$,  $D_{+2}$ y $D_{3}$, y para cada uno de ellos 1) calcular el error absoluto, 2) incluir todos los errores en un data frame y 3) hacer la gráfica de todos los errores vs $h$."
   ]
  },
  {
   "cell_type": "markdown",
   "metadata": {},
   "source": [
    "**Hint**:\n",
    "Siga los pasos realizados anteriormente, es decir:\n",
    "\n",
    "1. Definir una función para cada casos del siguiente estilo:\n",
    "\n",
    "```python\n",
    "def D_m2(u,x,h):\n",
    "    return INSERTAR LA FÓRMULA CORRESPONDIENTE\n",
    "\n",
    "def D_p2(u,x,h):\n",
    "    return INSERTAR LA FÓRMULA CORRESPONDIENTE\n",
    "\n",
    "def D_3(u,x,h):\n",
    "    return INSERTAR LA FÓRMULA CORRESPONDIENTE\n",
    "```\n",
    "2. Calcular el error en cada caso como sigue:\n",
    "```python\n",
    "em2 = np.fabs( np.cos(x) - D_m2(np.sin,x,h) )\n",
    "ep2 = np.fabs( np.cos(x) - D_p2(np.sin,x,h) )\n",
    "e3  = np.fabs( np.cos(x) - D_3(np.sin,x,h) )\n",
    "```\n",
    "3. Insertar los errores en un Dataframe:\n",
    "```python\n",
    "Error = pd.DataFrame(np.array([h,ef,eb,ec,em2,ep2,e3]).transpose(), \n",
    "                     columns=['$h$','$D_+$','$D_-$','$D_0$','$D_{-2}$','$D_{+2}$','$D_{3}$'])\n",
    "Error\n",
    "```\n",
    "\n",
    "2. Realizar las gráficas:\n",
    "```python\n",
    "plt.plot(h, ef, 'o-', lw=5, c='orange', label='$D_+$')\n",
    "... \n",
    "plt.plot(h, e3, 'P-', lw=2, label='$D_3$')\n",
    "```"
   ]
  },
  {
   "cell_type": "markdown",
   "metadata": {},
   "source": [
    "# SOLUCIÓN"
   ]
  },
  {
   "cell_type": "code",
   "execution_count": 12,
   "metadata": {},
   "outputs": [],
   "source": [
    "# Implementación\n",
    "def D_m2(u,x,h):\n",
    "    return (-3*u(x) + 4*u(x+h) - u(x+2*h)) / (2*h)\n",
    "\n",
    "# Implementación\n",
    "def D_p2(u,x,h):\n",
    "    return (3*u(x) - 4*u(x-h) + u(x-2*h)) / (2*h)\n",
    "\n",
    "# Implementación de D3\n",
    "def D3(u,x,h):\n",
    "    return (2*u(x+h)+3*u(x)-6*u(x-h)+u(x-2*h)) / (6*h)"
   ]
  },
  {
   "cell_type": "code",
   "execution_count": 13,
   "metadata": {},
   "outputs": [
    {
     "data": {
      "text/html": [
       "<div>\n",
       "<style scoped>\n",
       "    .dataframe tbody tr th:only-of-type {\n",
       "        vertical-align: middle;\n",
       "    }\n",
       "\n",
       "    .dataframe tbody tr th {\n",
       "        vertical-align: top;\n",
       "    }\n",
       "\n",
       "    .dataframe thead th {\n",
       "        text-align: right;\n",
       "    }\n",
       "</style>\n",
       "<table border=\"1\" class=\"dataframe\">\n",
       "  <thead>\n",
       "    <tr style=\"text-align: right;\">\n",
       "      <th></th>\n",
       "      <th>$h$</th>\n",
       "      <th>$D_+$</th>\n",
       "      <th>$D_-$</th>\n",
       "      <th>$D_0$</th>\n",
       "      <th>$D_{+2}$</th>\n",
       "      <th>$D_{-2}$</th>\n",
       "      <th>$D_3$</th>\n",
       "    </tr>\n",
       "  </thead>\n",
       "  <tbody>\n",
       "    <tr>\n",
       "      <th>0</th>\n",
       "      <td>0.100</td>\n",
       "      <td>0.042939</td>\n",
       "      <td>0.041138</td>\n",
       "      <td>9.000537e-04</td>\n",
       "      <td>2.004728e-03</td>\n",
       "      <td>1.584693e-03</td>\n",
       "      <td>6.820693e-05</td>\n",
       "    </tr>\n",
       "    <tr>\n",
       "      <th>1</th>\n",
       "      <td>0.050</td>\n",
       "      <td>0.021257</td>\n",
       "      <td>0.020807</td>\n",
       "      <td>2.250978e-04</td>\n",
       "      <td>4.761431e-04</td>\n",
       "      <td>4.235730e-04</td>\n",
       "      <td>8.649142e-06</td>\n",
       "    </tr>\n",
       "    <tr>\n",
       "      <th>2</th>\n",
       "      <td>0.010</td>\n",
       "      <td>0.004216</td>\n",
       "      <td>0.004198</td>\n",
       "      <td>9.004993e-06</td>\n",
       "      <td>1.821981e-05</td>\n",
       "      <td>1.779908e-05</td>\n",
       "      <td>6.994130e-08</td>\n",
       "    </tr>\n",
       "    <tr>\n",
       "      <th>3</th>\n",
       "      <td>0.005</td>\n",
       "      <td>0.002106</td>\n",
       "      <td>0.002101</td>\n",
       "      <td>2.251257e-06</td>\n",
       "      <td>4.528776e-06</td>\n",
       "      <td>4.476184e-06</td>\n",
       "      <td>8.754000e-09</td>\n",
       "    </tr>\n",
       "    <tr>\n",
       "      <th>4</th>\n",
       "      <td>0.001</td>\n",
       "      <td>0.000421</td>\n",
       "      <td>0.000421</td>\n",
       "      <td>9.005045e-08</td>\n",
       "      <td>1.803108e-07</td>\n",
       "      <td>1.798903e-07</td>\n",
       "      <td>6.997947e-11</td>\n",
       "    </tr>\n",
       "  </tbody>\n",
       "</table>\n",
       "</div>"
      ],
      "text/plain": [
       "     $h$     $D_+$     $D_-$         $D_0$      $D_{+2}$      $D_{-2}$  \\\n",
       "0  0.100  0.042939  0.041138  9.000537e-04  2.004728e-03  1.584693e-03   \n",
       "1  0.050  0.021257  0.020807  2.250978e-04  4.761431e-04  4.235730e-04   \n",
       "2  0.010  0.004216  0.004198  9.004993e-06  1.821981e-05  1.779908e-05   \n",
       "3  0.005  0.002106  0.002101  2.251257e-06  4.528776e-06  4.476184e-06   \n",
       "4  0.001  0.000421  0.000421  9.005045e-08  1.803108e-07  1.798903e-07   \n",
       "\n",
       "          $D_3$  \n",
       "0  6.820693e-05  \n",
       "1  8.649142e-06  \n",
       "2  6.994130e-08  \n",
       "3  8.754000e-09  \n",
       "4  6.997947e-11  "
      ]
     },
     "execution_count": 13,
     "metadata": {},
     "output_type": "execute_result"
    }
   ],
   "source": [
    "# Calculamos los errores:\n",
    "ep2 = np.fabs( np.cos(x) - D_p2(np.sin,x,h) )\n",
    "em2 = np.fabs( np.cos(x) - D_m2(np.sin,x,h) )\n",
    "e3 = np.fabs( np.cos(x) - D3(np.sin,x,h) )\n",
    "\n",
    "# Metemos la información de h y del error en un Dataframe y mostramos el resultado:\n",
    "Error = pd.DataFrame(np.array([h,ef,eb,ec,ep2,em2,e3]).transpose(), \n",
    "                     columns=['$h$','$D_+$','$D_-$','$D_0$','$D_{+2}$','$D_{-2}$','$D_3$'])\n",
    "Error"
   ]
  },
  {
   "cell_type": "code",
   "execution_count": 19,
   "metadata": {},
   "outputs": [],
   "source": [
    "tabla = Error.to_latex(index=False)\n",
    "with open('tabla.tex', 'w') as tf:\n",
    "     tf.write(tabla)"
   ]
  },
  {
   "cell_type": "code",
   "execution_count": null,
   "metadata": {},
   "outputs": [],
   "source": [
    "# Hacemos las gráficas del error vs h\n",
    "plt.plot(h, ef, 'o-', lw=5, c='orange', label='$D_+$')\n",
    "plt.plot(h, eb, '.-', lw=2, c='k', label='$D_-$')\n",
    "plt.plot(h, ec, '*-', lw=2, label='$D_0$')\n",
    "plt.plot(h, ep2, 's-', lw=5, c='cyan', label='$D_{+2}$')\n",
    "plt.plot(h, em2, 'p-', lw=2, c='purple', label='$D_{-2}$')\n",
    "plt.plot(h, e3, 'P-', lw=2, c='red', label='$D_3$')\n",
    "\n",
    "plt.xlabel('$h$')\n",
    "plt.ylabel('$E$')\n",
    "plt.title('Aproximación de la derivada')\n",
    "plt.legend(fontsize=20)\n",
    "plt.loglog()  # Definimos la escala log-log\n",
    "plt.grid()\n",
    "plt.savefig('LogLogFDM.pdf')\n",
    "plt.show()"
   ]
  },
  {
   "cell_type": "code",
   "execution_count": null,
   "metadata": {},
   "outputs": [],
   "source": []
  }
 ],
 "metadata": {
  "kernelspec": {
   "display_name": "Python 3",
   "language": "python",
   "name": "python3"
  },
  "language_info": {
   "codemirror_mode": {
    "name": "ipython",
    "version": 3
   },
   "file_extension": ".py",
   "mimetype": "text/x-python",
   "name": "python",
   "nbconvert_exporter": "python",
   "pygments_lexer": "ipython3",
   "version": "3.8.5"
  }
 },
 "nbformat": 4,
 "nbformat_minor": 4
}
