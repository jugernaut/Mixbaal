{
 "cells": [
  {
   "cell_type": "markdown",
   "metadata": {},
   "source": [
    "# Cálculo de derivadas numéricas\n",
    "## Proyecto PAPIME PE101019\n",
    "- Autor: Luis M. de la Cruz Salas\n",
    "- Rev: lun jul  6 19:29:17 CDT 2020"
   ]
  },
  {
   "cell_type": "code",
   "execution_count": 1,
   "metadata": {},
   "outputs": [],
   "source": [
    "import numpy as np\n",
    "import pandas as pd\n",
    "import matplotlib.pyplot as plt\n",
    "%matplotlib inline\n",
    "plt.style.use('seaborn-talk')"
   ]
  },
  {
   "cell_type": "code",
   "execution_count": 27,
   "metadata": {},
   "outputs": [],
   "source": [
    "params = {'figure.figsize' : (10,5),\n",
    "          'text.usetex'    : True,\n",
    "          'xtick.labelsize': 24,\n",
    "          'ytick.labelsize': 24,\n",
    "          'axes.labelsize' : 24,\n",
    "          'axes.titlesize' : 24,\n",
    "          'legend.fontsize': 24,\n",
    "          'lines.linewidth'     : 3,\n",
    "          'font.family': 'sans-serif'\n",
    "         }\n",
    "\n",
    "plt.rcParams.update(params)"
   ]
  },
  {
   "cell_type": "markdown",
   "metadata": {},
   "source": [
    "### Aproximación de la primera derivada usando diferencias finitas hacia adelante (Forward):\n",
    "\n",
    "$\n",
    "\\displaystyle\n",
    "\\dfrac{\\partial u(x)}{\\partial x} \\approx \\lim\\limits_{h\\to 0} \\frac{u(x+h) - u(x)}{h}\n",
    "$\n",
    "\n",
    "Definimos una función de Python para calcular está formula como sigue:"
   ]
  },
  {
   "cell_type": "code",
   "execution_count": 3,
   "metadata": {},
   "outputs": [],
   "source": [
    "def forwardFD(u,x,h):\n",
    "    \"\"\" \n",
    "    Esquema de diferencias finitas hacia adelante.\n",
    "    \n",
    "    Parameters\n",
    "    ----------\n",
    "    u : función. \n",
    "    Función a evaluar.\n",
    "    \n",
    "    x : array\n",
    "    Lugar(es) donde se evalúa la función\n",
    "    \n",
    "    h : array\n",
    "    Tamaño(s) de la diferencia entre u(x+h) y u(x).\n",
    "    \n",
    "    Returns\n",
    "    -------\n",
    "    Cálculo de la derivada numérica hacia adelante.\n",
    "    \"\"\"\n",
    "    return (u(x+h)-u(x))/h"
   ]
  },
  {
   "cell_type": "code",
   "execution_count": 4,
   "metadata": {},
   "outputs": [
    {
     "name": "stdout",
     "output_type": "stream",
     "text": [
      "[1.      0.5     0.25    0.125   0.0625  0.03125]\n",
      "[1. 1. 1. 1. 1. 1.]\n"
     ]
    }
   ],
   "source": [
    "# Definimos un arreglo con diferentes tamaños de h:\n",
    "N = 6\n",
    "h = np.zeros(N)\n",
    "\n",
    "h[0] = 1.0\n",
    "for i in range(1,N):\n",
    "    h[i] = h[i-1] * 0.5\n",
    "\n",
    "# Definimos un arreglo con valores de 1.0 (donde evaluaremos el cos(x)):\n",
    "x = np.ones(N)\n",
    "\n",
    "print(h)\n",
    "print(x)"
   ]
  },
  {
   "cell_type": "code",
   "execution_count": 5,
   "metadata": {},
   "outputs": [
    {
     "name": "stdout",
     "output_type": "stream",
     "text": [
      "[0.1   0.05  0.01  0.005 0.001]\n",
      "[1. 1. 1. 1. 1.]\n"
     ]
    }
   ],
   "source": [
    "h = np.asarray([0.1, 0.05, 0.01, 0.005, 0.001])\n",
    "N = 5\n",
    "x = np.ones(N)\n",
    "print(h)\n",
    "print(x)"
   ]
  },
  {
   "cell_type": "code",
   "execution_count": 6,
   "metadata": {},
   "outputs": [
    {
     "data": {
      "text/html": [
       "<div>\n",
       "<style scoped>\n",
       "    .dataframe tbody tr th:only-of-type {\n",
       "        vertical-align: middle;\n",
       "    }\n",
       "\n",
       "    .dataframe tbody tr th {\n",
       "        vertical-align: top;\n",
       "    }\n",
       "\n",
       "    .dataframe thead th {\n",
       "        text-align: right;\n",
       "    }\n",
       "</style>\n",
       "<table border=\"1\" class=\"dataframe\">\n",
       "  <thead>\n",
       "    <tr style=\"text-align: right;\">\n",
       "      <th></th>\n",
       "      <th>$h$</th>\n",
       "      <th>$D_+$</th>\n",
       "    </tr>\n",
       "  </thead>\n",
       "  <tbody>\n",
       "    <tr>\n",
       "      <th>0</th>\n",
       "      <td>0.100</td>\n",
       "      <td>0.042939</td>\n",
       "    </tr>\n",
       "    <tr>\n",
       "      <th>1</th>\n",
       "      <td>0.050</td>\n",
       "      <td>0.021257</td>\n",
       "    </tr>\n",
       "    <tr>\n",
       "      <th>2</th>\n",
       "      <td>0.010</td>\n",
       "      <td>0.004216</td>\n",
       "    </tr>\n",
       "    <tr>\n",
       "      <th>3</th>\n",
       "      <td>0.005</td>\n",
       "      <td>0.002106</td>\n",
       "    </tr>\n",
       "    <tr>\n",
       "      <th>4</th>\n",
       "      <td>0.001</td>\n",
       "      <td>0.000421</td>\n",
       "    </tr>\n",
       "  </tbody>\n",
       "</table>\n",
       "</div>"
      ],
      "text/plain": [
       "     $h$     $D_+$\n",
       "0  0.100  0.042939\n",
       "1  0.050  0.021257\n",
       "2  0.010  0.004216\n",
       "3  0.005  0.002106\n",
       "4  0.001  0.000421"
      ]
     },
     "execution_count": 6,
     "metadata": {},
     "output_type": "execute_result"
    }
   ],
   "source": [
    "# Calculamos el error entre la derivada exacta y la derivada numérica:\n",
    "ef = np.fabs( np.cos(x) - forwardFD(np.sin,x,h) )\n",
    "\n",
    "# Colocamos la información de h y del error en un Dataframe y mostramos el resultado:\n",
    "Error = pd.DataFrame(np.array([h, ef]).transpose(), \n",
    "                     columns=['$h$','$D_+$'])\n",
    "Error"
   ]
  },
  {
   "cell_type": "code",
   "execution_count": 7,
   "metadata": {},
   "outputs": [
    {
     "data": {
      "image/png": "[encoded data removed]",
      "text/plain": [
       "<Figure size 720x360 with 1 Axes>"
      ]
     },
     "metadata": {
      "needs_background": "light"
     },
     "output_type": "display_data"
    }
   ],
   "source": [
    "# Hacemos el gráfico del error vs h\n",
    "plt.plot(h, ef, '^-', label='$D_+$')\n",
    "plt.xlabel('$h$')\n",
    "plt.ylabel('Error')\n",
    "plt.title('Aproximación de la derivada')\n",
    "plt.legend()\n",
    "plt.show()"
   ]
  },
  {
   "cell_type": "markdown",
   "metadata": {},
   "source": [
    "### Aproximación de la primera derivada usando diferencias finitas hacia atrás (Backward):\n",
    "\n",
    "$\n",
    "\\displaystyle\n",
    "\\frac{\\partial u(x)}{\\partial x} \\approx \\lim\\limits_{h\\to 0} \\frac{u(x) - u(x-h)}{h}\n",
    "$\n",
    "\n",
    "Definimos una función de Python para calcular está formula como sigue:"
   ]
  },
  {
   "cell_type": "code",
   "execution_count": 8,
   "metadata": {},
   "outputs": [],
   "source": [
    "def backwardFD(u,x,h):\n",
    "    \"\"\" \n",
    "    Esquema de diferencias finitas hacia atrás.\n",
    "    \n",
    "    Parameters\n",
    "    ----------\n",
    "    u : función. \n",
    "    Función a evaluar.\n",
    "    \n",
    "    x : array\n",
    "    Lugar(es) donde se evalúa la función\n",
    "    \n",
    "    h : array\n",
    "    Tamaño(s) de la diferencia entre u(x+h) y u(x).\n",
    "    \n",
    "    Returns\n",
    "    -------\n",
    "    Cálculo de la derivada numérica hacia atrás.\n",
    "    \"\"\"\n",
    "    return (u(x)-u(x-h))/h"
   ]
  },
  {
   "cell_type": "code",
   "execution_count": 9,
   "metadata": {},
   "outputs": [
    {
     "data": {
      "text/html": [
       "<div>\n",
       "<style scoped>\n",
       "    .dataframe tbody tr th:only-of-type {\n",
       "        vertical-align: middle;\n",
       "    }\n",
       "\n",
       "    .dataframe tbody tr th {\n",
       "        vertical-align: top;\n",
       "    }\n",
       "\n",
       "    .dataframe thead th {\n",
       "        text-align: right;\n",
       "    }\n",
       "</style>\n",
       "<table border=\"1\" class=\"dataframe\">\n",
       "  <thead>\n",
       "    <tr style=\"text-align: right;\">\n",
       "      <th></th>\n",
       "      <th>$h$</th>\n",
       "      <th>$D_+$</th>\n",
       "      <th>$D_-$</th>\n",
       "    </tr>\n",
       "  </thead>\n",
       "  <tbody>\n",
       "    <tr>\n",
       "      <th>0</th>\n",
       "      <td>0.100</td>\n",
       "      <td>0.042939</td>\n",
       "      <td>0.041138</td>\n",
       "    </tr>\n",
       "    <tr>\n",
       "      <th>1</th>\n",
       "      <td>0.050</td>\n",
       "      <td>0.021257</td>\n",
       "      <td>0.020807</td>\n",
       "    </tr>\n",
       "    <tr>\n",
       "      <th>2</th>\n",
       "      <td>0.010</td>\n",
       "      <td>0.004216</td>\n",
       "      <td>0.004198</td>\n",
       "    </tr>\n",
       "    <tr>\n",
       "      <th>3</th>\n",
       "      <td>0.005</td>\n",
       "      <td>0.002106</td>\n",
       "      <td>0.002101</td>\n",
       "    </tr>\n",
       "    <tr>\n",
       "      <th>4</th>\n",
       "      <td>0.001</td>\n",
       "      <td>0.000421</td>\n",
       "      <td>0.000421</td>\n",
       "    </tr>\n",
       "  </tbody>\n",
       "</table>\n",
       "</div>"
      ],
      "text/plain": [
       "     $h$     $D_+$     $D_-$\n",
       "0  0.100  0.042939  0.041138\n",
       "1  0.050  0.021257  0.020807\n",
       "2  0.010  0.004216  0.004198\n",
       "3  0.005  0.002106  0.002101\n",
       "4  0.001  0.000421  0.000421"
      ]
     },
     "execution_count": 9,
     "metadata": {},
     "output_type": "execute_result"
    }
   ],
   "source": [
    "# Calculamos el error entre la derivada exacta y la derivada numérica:\n",
    "eb = np.fabs( np.cos(x) - backwardFD(np.sin,x,h) )\n",
    "\n",
    "# Metemos la información de h y del error en un Dataframe y mostramos el resultado:\n",
    "Error = pd.DataFrame(np.array([h, ef, eb]).transpose(), \n",
    "                     columns=['$h$','$D_+$', '$D_-$'])\n",
    "Error"
   ]
  },
  {
   "cell_type": "code",
   "execution_count": 10,
   "metadata": {},
   "outputs": [
    {
     "data": {
      "image/png": "[encoded data removed]",
      "text/plain": [
       "<Figure size 720x360 with 1 Axes>"
      ]
     },
     "metadata": {
      "needs_background": "light"
     },
     "output_type": "display_data"
    }
   ],
   "source": [
    "# Hacemos el gráfico del error vs h\n",
    "plt.plot(h, ef, '^-', label='$D_+$')\n",
    "plt.plot(h, eb, 'v-', label='$D_-$')\n",
    "plt.xlabel('$h$')\n",
    "plt.ylabel('Error')\n",
    "plt.title('Aproximación de la derivada')\n",
    "plt.legend()\n",
    "plt.show()"
   ]
  },
  {
   "cell_type": "markdown",
   "metadata": {},
   "source": [
    "### Aproximación de la primera derivada usando diferencias finitas hacía centradas (Centered):\n",
    "\n",
    "$\n",
    "\\displaystyle\n",
    "\\frac{\\partial u(x)}{\\partial x} \\approx \\lim\\limits_{h\\to 0} \\frac{u(x+h) - u(x-h)}{2h}\n",
    "$\n",
    "\n",
    "Definimos una función de Python para calcular está formula como sigue:"
   ]
  },
  {
   "cell_type": "code",
   "execution_count": 11,
   "metadata": {},
   "outputs": [],
   "source": [
    "def centeredFD(u,x,h):\n",
    "    \"\"\" \n",
    "    Esquema de diferencias finitas centradas.\n",
    "    \n",
    "    Parameters\n",
    "    ----------\n",
    "    u : función. \n",
    "    Función a evaluar.\n",
    "    \n",
    "    x : array\n",
    "    Lugar(es) donde se evalúa la función\n",
    "    \n",
    "    h : array\n",
    "    Tamaño(s) de la diferencia entre u(x+h) y u(x).\n",
    "    \n",
    "    Returns\n",
    "    -------\n",
    "    Cálculo de la derivada numérica centrada.\n",
    "    \"\"\"\n",
    "    return (u(x+h)-u(x-h))/(2*h)"
   ]
  },
  {
   "cell_type": "code",
   "execution_count": 12,
   "metadata": {},
   "outputs": [
    {
     "name": "stdout",
     "output_type": "stream",
     "text": [
      "[1. 1. 1. 1. 1.]\n",
      "[0.1   0.05  0.01  0.005 0.001]\n"
     ]
    },
    {
     "data": {
      "text/html": [
       "<div>\n",
       "<style scoped>\n",
       "    .dataframe tbody tr th:only-of-type {\n",
       "        vertical-align: middle;\n",
       "    }\n",
       "\n",
       "    .dataframe tbody tr th {\n",
       "        vertical-align: top;\n",
       "    }\n",
       "\n",
       "    .dataframe thead th {\n",
       "        text-align: right;\n",
       "    }\n",
       "</style>\n",
       "<table border=\"1\" class=\"dataframe\">\n",
       "  <thead>\n",
       "    <tr style=\"text-align: right;\">\n",
       "      <th></th>\n",
       "      <th>$h$</th>\n",
       "      <th>$D_+$</th>\n",
       "      <th>$D_-$</th>\n",
       "      <th>$D_0$</th>\n",
       "    </tr>\n",
       "  </thead>\n",
       "  <tbody>\n",
       "    <tr>\n",
       "      <th>0</th>\n",
       "      <td>0.100</td>\n",
       "      <td>0.042939</td>\n",
       "      <td>0.041138</td>\n",
       "      <td>9.000537e-04</td>\n",
       "    </tr>\n",
       "    <tr>\n",
       "      <th>1</th>\n",
       "      <td>0.050</td>\n",
       "      <td>0.021257</td>\n",
       "      <td>0.020807</td>\n",
       "      <td>2.250978e-04</td>\n",
       "    </tr>\n",
       "    <tr>\n",
       "      <th>2</th>\n",
       "      <td>0.010</td>\n",
       "      <td>0.004216</td>\n",
       "      <td>0.004198</td>\n",
       "      <td>9.004993e-06</td>\n",
       "    </tr>\n",
       "    <tr>\n",
       "      <th>3</th>\n",
       "      <td>0.005</td>\n",
       "      <td>0.002106</td>\n",
       "      <td>0.002101</td>\n",
       "      <td>2.251257e-06</td>\n",
       "    </tr>\n",
       "    <tr>\n",
       "      <th>4</th>\n",
       "      <td>0.001</td>\n",
       "      <td>0.000421</td>\n",
       "      <td>0.000421</td>\n",
       "      <td>9.005045e-08</td>\n",
       "    </tr>\n",
       "  </tbody>\n",
       "</table>\n",
       "</div>"
      ],
      "text/plain": [
       "     $h$     $D_+$     $D_-$         $D_0$\n",
       "0  0.100  0.042939  0.041138  9.000537e-04\n",
       "1  0.050  0.021257  0.020807  2.250978e-04\n",
       "2  0.010  0.004216  0.004198  9.004993e-06\n",
       "3  0.005  0.002106  0.002101  2.251257e-06\n",
       "4  0.001  0.000421  0.000421  9.005045e-08"
      ]
     },
     "execution_count": 12,
     "metadata": {},
     "output_type": "execute_result"
    }
   ],
   "source": [
    "print(x)\n",
    "print(h)\n",
    "# Calculamos el error entre la derivada exacta y la derivada numérica:\n",
    "ec = np.fabs( np.cos(x) - centeredFD(np.sin,x,h) )\n",
    "\n",
    "# Metemos la información de h y del error en un Dataframe y mostramos el resultado:\n",
    "Error = pd.DataFrame(np.array([h,ef,eb,ec]).transpose(), \n",
    "                     columns=['$h$','$D_+$', '$D_-$','$D_0$'])\n",
    "Error"
   ]
  },
  {
   "cell_type": "markdown",
   "metadata": {},
   "source": [
    "Observe que en este caso los errores son varios órdenes de magnitud más pequeños que para $D_+$ y $D_-$. Para hacer una gráfica más representativa usaremos escala log-log:"
   ]
  },
  {
   "cell_type": "code",
   "execution_count": 13,
   "metadata": {},
   "outputs": [
    {
     "data": {
      "image/png": "[encoded data removed]",
      "text/plain": [
       "<Figure size 720x360 with 1 Axes>"
      ]
     },
     "metadata": {
      "needs_background": "light"
     },
     "output_type": "display_data"
    }
   ],
   "source": [
    "# Hacemos el gráfico del error vs h\n",
    "plt.plot(h, ef, '^-', label='$D_+$')\n",
    "plt.plot(h, eb, 'v-', label='$D_-$')\n",
    "plt.plot(h, ec, 's-', label='$D_0$')\n",
    "plt.xlabel('$h$')\n",
    "plt.ylabel('Error')\n",
    "plt.title('Aproximación de la derivada')\n",
    "plt.legend()\n",
    "plt.loglog()  # Definimos la escala log-log\n",
    "plt.show()"
   ]
  },
  {
   "cell_type": "markdown",
   "metadata": {},
   "source": [
    "Como se puede apreciar, la gráfica anterior muestra que la aproximación con diferencias finitas centradas es mejor, pues es de orden cuadrático."
   ]
  },
  {
   "cell_type": "code",
   "execution_count": 14,
   "metadata": {},
   "outputs": [],
   "source": [
    "# Implementación\n",
    "def D_p2(u,x,h):\n",
    "    return (3*u(x) - 4*u(x-h) + u(x-2*h)) / (2*h)"
   ]
  },
  {
   "cell_type": "code",
   "execution_count": 15,
   "metadata": {},
   "outputs": [
    {
     "data": {
      "text/html": [
       "<div>\n",
       "<style scoped>\n",
       "    .dataframe tbody tr th:only-of-type {\n",
       "        vertical-align: middle;\n",
       "    }\n",
       "\n",
       "    .dataframe tbody tr th {\n",
       "        vertical-align: top;\n",
       "    }\n",
       "\n",
       "    .dataframe thead th {\n",
       "        text-align: right;\n",
       "    }\n",
       "</style>\n",
       "<table border=\"1\" class=\"dataframe\">\n",
       "  <thead>\n",
       "    <tr style=\"text-align: right;\">\n",
       "      <th></th>\n",
       "      <th>$h$</th>\n",
       "      <th>$D_+$</th>\n",
       "      <th>$D_-$</th>\n",
       "      <th>$D_0$</th>\n",
       "      <th>$D_{+2}$</th>\n",
       "    </tr>\n",
       "  </thead>\n",
       "  <tbody>\n",
       "    <tr>\n",
       "      <th>0</th>\n",
       "      <td>0.100</td>\n",
       "      <td>0.042939</td>\n",
       "      <td>0.041138</td>\n",
       "      <td>9.000537e-04</td>\n",
       "      <td>2.004728e-03</td>\n",
       "    </tr>\n",
       "    <tr>\n",
       "      <th>1</th>\n",
       "      <td>0.050</td>\n",
       "      <td>0.021257</td>\n",
       "      <td>0.020807</td>\n",
       "      <td>2.250978e-04</td>\n",
       "      <td>4.761431e-04</td>\n",
       "    </tr>\n",
       "    <tr>\n",
       "      <th>2</th>\n",
       "      <td>0.010</td>\n",
       "      <td>0.004216</td>\n",
       "      <td>0.004198</td>\n",
       "      <td>9.004993e-06</td>\n",
       "      <td>1.821981e-05</td>\n",
       "    </tr>\n",
       "    <tr>\n",
       "      <th>3</th>\n",
       "      <td>0.005</td>\n",
       "      <td>0.002106</td>\n",
       "      <td>0.002101</td>\n",
       "      <td>2.251257e-06</td>\n",
       "      <td>4.528776e-06</td>\n",
       "    </tr>\n",
       "    <tr>\n",
       "      <th>4</th>\n",
       "      <td>0.001</td>\n",
       "      <td>0.000421</td>\n",
       "      <td>0.000421</td>\n",
       "      <td>9.005045e-08</td>\n",
       "      <td>1.803108e-07</td>\n",
       "    </tr>\n",
       "  </tbody>\n",
       "</table>\n",
       "</div>"
      ],
      "text/plain": [
       "     $h$     $D_+$     $D_-$         $D_0$      $D_{+2}$\n",
       "0  0.100  0.042939  0.041138  9.000537e-04  2.004728e-03\n",
       "1  0.050  0.021257  0.020807  2.250978e-04  4.761431e-04\n",
       "2  0.010  0.004216  0.004198  9.004993e-06  1.821981e-05\n",
       "3  0.005  0.002106  0.002101  2.251257e-06  4.528776e-06\n",
       "4  0.001  0.000421  0.000421  9.005045e-08  1.803108e-07"
      ]
     },
     "execution_count": 15,
     "metadata": {},
     "output_type": "execute_result"
    }
   ],
   "source": [
    "# Calculamos el error entre la derivada exacta y la derivada numérica:\n",
    "ep2 = np.fabs( np.cos(x) - D_p2(np.sin,x,h) )\n",
    "\n",
    "# Metemos la información de h y del error en un Dataframe y mostramos el resultado:\n",
    "Error = pd.DataFrame(np.array([h,ef,eb,ec,ep2]).transpose(), \n",
    "                     columns=['$h$','$D_+$', '$D_-$','$D_0$','$D_{+2}$'])\n",
    "Error"
   ]
  },
  {
   "cell_type": "code",
   "execution_count": 16,
   "metadata": {},
   "outputs": [
    {
     "data": {
      "image/png": "[encoded data removed]",
      "text/plain": [
       "<Figure size 720x360 with 1 Axes>"
      ]
     },
     "metadata": {
      "needs_background": "light"
     },
     "output_type": "display_data"
    }
   ],
   "source": [
    "# Hacemos el gráfico del error vs h\n",
    "plt.plot(h, ef, '^-', label='$D_+$')\n",
    "plt.plot(h, eb, 'v-', label='$D_-$')\n",
    "plt.plot(h, ec, 's-', label='$D_0$')\n",
    "plt.plot(h, ep2, 'o-', label='$D_{+2}$')\n",
    "\n",
    "plt.xlabel('$h$')\n",
    "plt.ylabel('Error')\n",
    "plt.title('Aproximación de la derivada')\n",
    "plt.legend()\n",
    "plt.loglog()  # Definimos la escala log-log\n",
    "plt.show()"
   ]
  },
  {
   "cell_type": "code",
   "execution_count": 17,
   "metadata": {},
   "outputs": [],
   "source": [
    "# Implementación\n",
    "def D_m2(u,x,h):\n",
    "    return (-3*u(x) + 4*u(x+h) - u(x+2*h)) / (2*h)"
   ]
  },
  {
   "cell_type": "code",
   "execution_count": 18,
   "metadata": {},
   "outputs": [
    {
     "data": {
      "text/html": [
       "<div>\n",
       "<style scoped>\n",
       "    .dataframe tbody tr th:only-of-type {\n",
       "        vertical-align: middle;\n",
       "    }\n",
       "\n",
       "    .dataframe tbody tr th {\n",
       "        vertical-align: top;\n",
       "    }\n",
       "\n",
       "    .dataframe thead th {\n",
       "        text-align: right;\n",
       "    }\n",
       "</style>\n",
       "<table border=\"1\" class=\"dataframe\">\n",
       "  <thead>\n",
       "    <tr style=\"text-align: right;\">\n",
       "      <th></th>\n",
       "      <th>$h$</th>\n",
       "      <th>$D_+$</th>\n",
       "      <th>$D_-$</th>\n",
       "      <th>$D_0$</th>\n",
       "      <th>$D_{+2}$</th>\n",
       "      <th>$D_{-2}$</th>\n",
       "    </tr>\n",
       "  </thead>\n",
       "  <tbody>\n",
       "    <tr>\n",
       "      <th>0</th>\n",
       "      <td>0.100</td>\n",
       "      <td>0.042939</td>\n",
       "      <td>0.041138</td>\n",
       "      <td>9.000537e-04</td>\n",
       "      <td>2.004728e-03</td>\n",
       "      <td>1.584693e-03</td>\n",
       "    </tr>\n",
       "    <tr>\n",
       "      <th>1</th>\n",
       "      <td>0.050</td>\n",
       "      <td>0.021257</td>\n",
       "      <td>0.020807</td>\n",
       "      <td>2.250978e-04</td>\n",
       "      <td>4.761431e-04</td>\n",
       "      <td>4.235730e-04</td>\n",
       "    </tr>\n",
       "    <tr>\n",
       "      <th>2</th>\n",
       "      <td>0.010</td>\n",
       "      <td>0.004216</td>\n",
       "      <td>0.004198</td>\n",
       "      <td>9.004993e-06</td>\n",
       "      <td>1.821981e-05</td>\n",
       "      <td>1.779908e-05</td>\n",
       "    </tr>\n",
       "    <tr>\n",
       "      <th>3</th>\n",
       "      <td>0.005</td>\n",
       "      <td>0.002106</td>\n",
       "      <td>0.002101</td>\n",
       "      <td>2.251257e-06</td>\n",
       "      <td>4.528776e-06</td>\n",
       "      <td>4.476184e-06</td>\n",
       "    </tr>\n",
       "    <tr>\n",
       "      <th>4</th>\n",
       "      <td>0.001</td>\n",
       "      <td>0.000421</td>\n",
       "      <td>0.000421</td>\n",
       "      <td>9.005045e-08</td>\n",
       "      <td>1.803108e-07</td>\n",
       "      <td>1.798903e-07</td>\n",
       "    </tr>\n",
       "  </tbody>\n",
       "</table>\n",
       "</div>"
      ],
      "text/plain": [
       "     $h$     $D_+$     $D_-$         $D_0$      $D_{+2}$      $D_{-2}$\n",
       "0  0.100  0.042939  0.041138  9.000537e-04  2.004728e-03  1.584693e-03\n",
       "1  0.050  0.021257  0.020807  2.250978e-04  4.761431e-04  4.235730e-04\n",
       "2  0.010  0.004216  0.004198  9.004993e-06  1.821981e-05  1.779908e-05\n",
       "3  0.005  0.002106  0.002101  2.251257e-06  4.528776e-06  4.476184e-06\n",
       "4  0.001  0.000421  0.000421  9.005045e-08  1.803108e-07  1.798903e-07"
      ]
     },
     "execution_count": 18,
     "metadata": {},
     "output_type": "execute_result"
    }
   ],
   "source": [
    "# Calculamos el error entre la derivada exacta y la derivada numérica:\n",
    "em2 = np.fabs( np.cos(x) - D_m2(np.sin,x,h) )\n",
    "\n",
    "# Metemos la información de h y del error en un Dataframe y mostramos el resultado:\n",
    "Error = pd.DataFrame(np.array([h,ef,eb,ec,ep2,em2]).transpose(), \n",
    "                     columns=['$h$','$D_+$', '$D_-$','$D_0$','$D_{+2}$', '$D_{-2}$'])\n",
    "Error"
   ]
  },
  {
   "cell_type": "code",
   "execution_count": 19,
   "metadata": {},
   "outputs": [
    {
     "data": {
      "image/png": "[encoded data removed]",
      "text/plain": [
       "<Figure size 720x360 with 1 Axes>"
      ]
     },
     "metadata": {
      "needs_background": "light"
     },
     "output_type": "display_data"
    }
   ],
   "source": [
    "# Hacemos el gráfico del error vs h\n",
    "plt.plot(h, ef, '^-', label='$D_+$')\n",
    "plt.plot(h, eb, 'v-', label='$D_-$')\n",
    "plt.plot(h, ec, 's-', label='$D_0$')\n",
    "plt.plot(h, ep2, 'P--', label='$D_{+2}$')\n",
    "plt.plot(h, em2, 'p-.', label='$D_{-2}$')\n",
    "\n",
    "plt.xlabel('$h$')\n",
    "plt.ylabel('Error')\n",
    "plt.title('Aproximación de la derivada')\n",
    "plt.legend()\n",
    "plt.loglog()  # Definimos la escala log-log\n",
    "plt.show()"
   ]
  },
  {
   "cell_type": "code",
   "execution_count": 20,
   "metadata": {},
   "outputs": [],
   "source": [
    "# Implementación de D3\n",
    "def D3(u,x,h):\n",
    "    return (2*u(x+h)+3*u(x)-6*u(x-h)+u(x-2*h)) / (6*h)"
   ]
  },
  {
   "cell_type": "code",
   "execution_count": 21,
   "metadata": {},
   "outputs": [
    {
     "data": {
      "text/html": [
       "<div>\n",
       "<style scoped>\n",
       "    .dataframe tbody tr th:only-of-type {\n",
       "        vertical-align: middle;\n",
       "    }\n",
       "\n",
       "    .dataframe tbody tr th {\n",
       "        vertical-align: top;\n",
       "    }\n",
       "\n",
       "    .dataframe thead th {\n",
       "        text-align: right;\n",
       "    }\n",
       "</style>\n",
       "<table border=\"1\" class=\"dataframe\">\n",
       "  <thead>\n",
       "    <tr style=\"text-align: right;\">\n",
       "      <th></th>\n",
       "      <th>$h$</th>\n",
       "      <th>$D_+$</th>\n",
       "      <th>$D_-$</th>\n",
       "      <th>$D_0$</th>\n",
       "      <th>$D_{+2}$</th>\n",
       "      <th>$D_{-2}$</th>\n",
       "      <th>$D_3$</th>\n",
       "    </tr>\n",
       "  </thead>\n",
       "  <tbody>\n",
       "    <tr>\n",
       "      <th>0</th>\n",
       "      <td>0.100</td>\n",
       "      <td>0.042939</td>\n",
       "      <td>0.041138</td>\n",
       "      <td>9.000537e-04</td>\n",
       "      <td>2.004728e-03</td>\n",
       "      <td>1.584693e-03</td>\n",
       "      <td>6.820693e-05</td>\n",
       "    </tr>\n",
       "    <tr>\n",
       "      <th>1</th>\n",
       "      <td>0.050</td>\n",
       "      <td>0.021257</td>\n",
       "      <td>0.020807</td>\n",
       "      <td>2.250978e-04</td>\n",
       "      <td>4.761431e-04</td>\n",
       "      <td>4.235730e-04</td>\n",
       "      <td>8.649142e-06</td>\n",
       "    </tr>\n",
       "    <tr>\n",
       "      <th>2</th>\n",
       "      <td>0.010</td>\n",
       "      <td>0.004216</td>\n",
       "      <td>0.004198</td>\n",
       "      <td>9.004993e-06</td>\n",
       "      <td>1.821981e-05</td>\n",
       "      <td>1.779908e-05</td>\n",
       "      <td>6.994130e-08</td>\n",
       "    </tr>\n",
       "    <tr>\n",
       "      <th>3</th>\n",
       "      <td>0.005</td>\n",
       "      <td>0.002106</td>\n",
       "      <td>0.002101</td>\n",
       "      <td>2.251257e-06</td>\n",
       "      <td>4.528776e-06</td>\n",
       "      <td>4.476184e-06</td>\n",
       "      <td>8.754000e-09</td>\n",
       "    </tr>\n",
       "    <tr>\n",
       "      <th>4</th>\n",
       "      <td>0.001</td>\n",
       "      <td>0.000421</td>\n",
       "      <td>0.000421</td>\n",
       "      <td>9.005045e-08</td>\n",
       "      <td>1.803108e-07</td>\n",
       "      <td>1.798903e-07</td>\n",
       "      <td>6.997947e-11</td>\n",
       "    </tr>\n",
       "  </tbody>\n",
       "</table>\n",
       "</div>"
      ],
      "text/plain": [
       "     $h$     $D_+$     $D_-$         $D_0$      $D_{+2}$      $D_{-2}$  \\\n",
       "0  0.100  0.042939  0.041138  9.000537e-04  2.004728e-03  1.584693e-03   \n",
       "1  0.050  0.021257  0.020807  2.250978e-04  4.761431e-04  4.235730e-04   \n",
       "2  0.010  0.004216  0.004198  9.004993e-06  1.821981e-05  1.779908e-05   \n",
       "3  0.005  0.002106  0.002101  2.251257e-06  4.528776e-06  4.476184e-06   \n",
       "4  0.001  0.000421  0.000421  9.005045e-08  1.803108e-07  1.798903e-07   \n",
       "\n",
       "          $D_3$  \n",
       "0  6.820693e-05  \n",
       "1  8.649142e-06  \n",
       "2  6.994130e-08  \n",
       "3  8.754000e-09  \n",
       "4  6.997947e-11  "
      ]
     },
     "execution_count": 21,
     "metadata": {},
     "output_type": "execute_result"
    }
   ],
   "source": [
    "# Calculamos el error entre la derivada exacta y la derivada numérica:\n",
    "e3 = np.fabs( np.cos(x) - D3(np.sin,x,h) )\n",
    "\n",
    "\n",
    "# Metemos la información de h y del error en un Dataframe y mostramos el resultado:\n",
    "Error = pd.DataFrame(np.array([h,ef,eb,ec,ep2,em2,e3]).transpose(), \n",
    "                     columns=['$h$','$D_+$', '$D_-$','$D_0$','$D_{+2}$','$D_{-2}$','$D_3$'])\n",
    "\n",
    "Error.style.hide_index()\n",
    "\n",
    "Error"
   ]
  },
  {
   "cell_type": "code",
   "execution_count": 28,
   "metadata": {},
   "outputs": [
    {
     "data": {
      "image/png": "[encoded data removed]",
      "text/plain": [
       "<Figure size 864x576 with 1 Axes>"
      ]
     },
     "metadata": {
      "needs_background": "light"
     },
     "output_type": "display_data"
    }
   ],
   "source": [
    "# Hacemos el gráfico del error vs h\n",
    "plt.figure(figsize=(12,8))\n",
    "plt.plot(h, ef, 'o-', lw=5, c='orange', label='$D_+$')\n",
    "plt.plot(h, eb, '.-', lw=2, c='blue', label='$D_-$')\n",
    "plt.plot(h, ec, '*-', lw=2, label='$D_0$')\n",
    "plt.plot(h, ep2, 's-', lw=5, c='cyan', label='$D_{+2}$')\n",
    "plt.plot(h, em2, 'p-', lw=2, c='k', label='$D_{-2}$')\n",
    "plt.plot(h, e3, 'P-', lw=2, label='$D_3$')\n",
    "\n",
    "plt.xlabel('$h$')\n",
    "plt.ylabel('$E$')\n",
    "#plt.title('Aproximación de la derivada')\n",
    "plt.legend()\n",
    "plt.loglog()  # Definimos la escala log-log\n",
    "plt.savefig('LogLogFDM.pdf')\n",
    "plt.show()"
   ]
  },
  {
   "cell_type": "markdown",
   "metadata": {},
   "source": [
    "## Ejercicio 0.\n",
    "Para mejorar aún más la aproximación de la derivada se pueden usar más puntos en la fórmula de aproximación. Por ejemplo: \n",
    "\n",
    "$\n",
    "D_3 u = \\dfrac{1}{6 h} \n",
    "\\left[ 2u_{i+1} + 3u_{i} - 6u_{i-1} + u_{i-2} \\right]\n",
    "$\n",
    "\n",
    "- Agregar una función de Python para calcular la derivada con la fórmula anterior.\n",
    "- Calcular el error, completar la tabla de errores y hacer el gráfico con todas las aproximaciones. \n",
    "\n",
    "Al final de este ejercicio se debe obtener un gráfico similar al de la siguiente figura:\n",
    "\n",
    "<img src=\"../Figuras/dernum.png\">\n",
    "\n",
    "**Hint**: Recuerde que $u_i = u(x)$, $u_{i+1} = u(x+h)$, $u_{i-1} = u(x-h)$ y $u_{i-2} = u(x-2h)$."
   ]
  },
  {
   "cell_type": "markdown",
   "metadata": {},
   "source": [
    "# Herramienta interativa\n",
    "La siguiente herramienta tiene como propósito mostras diferentes funciones y sus derivadas exactas así como el cálculo numérico de las derivadas usando varias aproximaciones. Puedes elegir la función y el tipo de aproximación. Después, puedes mover el punto donde se realiza la aproximación y el tamaño de la $h$."
   ]
  },
  {
   "cell_type": "code",
   "execution_count": null,
   "metadata": {},
   "outputs": [],
   "source": [
    "# LINUX y MACOS\n",
    "%run \"./utils/interactiveDerivadasNumericas.ipynb\"\n",
    "\n",
    "# Si usas WINDOWS debes comentar la línea de arriba y \n",
    "# descomentar la línea que sigue. Deberás también sustituir\n",
    "# TU_DIRECTORIO por el directorio donde esté el repositorio GeoMaC\n",
    "\n",
    "#%run \"D:\\\\TU_DIRECTORIO\\\\GeoMaC\\\\DerivadasNumericas\\\\utils\\\\interactiveDerivadasNumericas.ipynb\""
   ]
  },
  {
   "cell_type": "markdown",
   "metadata": {},
   "source": [
    "## Ejercicio 1.\n",
    "Implementar la siguiente aproximación y graficarla junto con todos los resultados anteriores:\n",
    "\n",
    "$$\n",
    "f^\\prime = \\frac{3 f_i - 4 f_{i-1} + f_{i-2}}{2h}\n",
    "$$"
   ]
  },
  {
   "cell_type": "markdown",
   "metadata": {},
   "source": [
    "## Ejercicio 2.\n",
    "Obtener los coeficientes $A$, $B$ y $C$ para una aproximación del siguiente tipo: \n",
    "\n",
    "$$\n",
    "f^\\prime = A f_i + B f_{i+1} + C f_{i+2}\n",
    "$$\n",
    "\n",
    "y luego implementar la fórmula y graficarla junto con los resultados anteriores.\n",
    "\n",
    "¿Cuál de todas las aproximaciones usaría? ¿Por qué?"
   ]
  },
  {
   "cell_type": "markdown",
   "metadata": {},
   "source": [
    "Los coeficientes de la fórmula son: $A = -3 / 2h$, $B = 2/h$ y $C = -1/2h$ de tal manera que la fórmula de diferencias queda como sigue:\n",
    "\n",
    "$$\n",
    "f^\\prime = \\frac{-3 f_i + 4 f_{i+1} - f_{i+2}}{2h}\n",
    "$$"
   ]
  },
  {
   "cell_type": "markdown",
   "metadata": {},
   "source": [
    "Si lo que se quiere es mejor precisión, entonces la aproximación que se debe usar es la $D_3$, pues con esta se obtiene un menor error. \n",
    "\n",
    "Si se requiere rapidez, entonces se podría usar $D_+$ o $D_-$.\n",
    "\n",
    "Sin embargo, la que parece que tiene un mejor comportamiento, en términos de rapidez y precisión, es la $D_0$. "
   ]
  },
  {
   "cell_type": "code",
   "execution_count": null,
   "metadata": {},
   "outputs": [],
   "source": []
  }
 ],
 "metadata": {
  "kernelspec": {
   "display_name": "Python 3",
   "language": "python",
   "name": "python3"
  },
  "language_info": {
   "codemirror_mode": {
    "name": "ipython",
    "version": 3
   },
   "file_extension": ".py",
   "mimetype": "text/x-python",
   "name": "python",
   "nbconvert_exporter": "python",
   "pygments_lexer": "ipython3",
   "version": "3.8.5"
  }
 },
 "nbformat": 4,
 "nbformat_minor": 4
}
