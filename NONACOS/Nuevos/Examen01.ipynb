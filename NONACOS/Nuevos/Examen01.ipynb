{
 "cells": [
  {
   "cell_type": "markdown",
   "metadata": {},
   "source": [
    "**1. Calcule el error absoluto y el error relativo de la aproximación $pa$ al número $p$ de lo siguiente:**\n",
    "\n",
    "a. $p = \\pi , pa = 22/7$ <br>\n",
    "b. $p = e^{10}, pa = 22000$ <br> \n",
    "c. $p = 10^\\pi, pa = 1400$ <br>\n",
    "d. $p = 9!, pa = \\sqrt{18 \\pi} (9/e)^9$ <br>"
   ]
  },
  {
   "cell_type": "markdown",
   "metadata": {},
   "source": [
    "**2. ¿En qué intervalo la derivada de las siguientes funciones se hace cero?**\n",
    "\n",
    "a. $f(x) = 1 − e^x + (e − 1)\\sin(\\frac{\\pi x}{2}), $ <br>\n",
    "b. $f(x) = (x − 1)\\tan x + x \\sin \\pi x, $ <br>\n",
    "c. $f(x) = x \\sin \\pi x − (x − 2) \\ln x, $ <br>\n",
    "d. $f(x) = (x − 2) \\sin x \\ln(x + 2), $ <br>\n",
    "\n",
    "**Realizar lo siguiente**:\n",
    "- Grafique las siguientes funciones para mostrar que su derivada se hace cero en los intervalos proporcionados.\n",
    "- Muestre que $f^\\prime(x)$ se hace cero en los intervalos correspondientes.\n"
   ]
  },
  {
   "cell_type": "markdown",
   "metadata": {},
   "source": [
    "**3.**\n",
    "El polinomio de Taylor de grado $n$ de la función $f(x) = e^x$ es \n",
    "$\\displaystyle P_n(x) = \\sum_{i=0}^n \\frac{x^i}{i!}$. Usando el Polinomio de Taylor de grado $9$ podemos aproximar $e^{-5}$ usando los siguientes dos métodos:\n",
    "\n",
    "a. $\\displaystyle e^{-5} \\approx \\sum_{i=0}^n \\frac{(-5)^i}{i!} = \\sum_{i=0}^n \\frac{(-1)^i 5^i}{i!}$ <br>\n",
    "\n",
    "b. $\\displaystyle e^{-5} = \\frac{1}{e^5} \\approx \\frac{1}{\\sum_{i=0}^n \\frac{5^i}{i!}}$\n",
    "\n",
    "**¿Cuál de los dos fórmulas anteriores da una mejor aproximación? ¿Por qué?**"
   ]
  },
  {
   "cell_type": "code",
   "execution_count": null,
   "metadata": {},
   "outputs": [],
   "source": []
  }
 ],
 "metadata": {
  "kernelspec": {
   "display_name": "Python 3",
   "language": "python",
   "name": "python3"
  },
  "language_info": {
   "codemirror_mode": {
    "name": "ipython",
    "version": 3
   },
   "file_extension": ".py",
   "mimetype": "text/x-python",
   "name": "python",
   "nbconvert_exporter": "python",
   "pygments_lexer": "ipython3",
   "version": "3.7.6"
  }
 },
 "nbformat": 4,
 "nbformat_minor": 4
}
