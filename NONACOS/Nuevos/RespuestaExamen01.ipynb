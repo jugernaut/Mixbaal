{
 "cells": [
  {
   "cell_type": "code",
   "execution_count": 1,
   "metadata": {},
   "outputs": [],
   "source": [
    "import numpy as np\n",
    "import matplotlib.pyplot as plt\n",
    "%matplotlib inline"
   ]
  },
  {
   "cell_type": "markdown",
   "metadata": {},
   "source": [
    "Calcule el error absoluto y el error relativo de la aproximación $pa$ al número $p$ de lo siguiente:\n",
    "\n",
    "a. $p = \\pi , pa = 22/7$ <br>\n",
    "b. $p = e^{10}, pa = 22000$ <br> \n",
    "c. $p = 10^\\pi, pa = 1400$ <br>\n",
    "d. $p = 9!, pa = \\sqrt{18 \\pi} (9/e)^9$ <br>"
   ]
  },
  {
   "cell_type": "code",
   "execution_count": 39,
   "metadata": {},
   "outputs": [
    {
     "name": "stdout",
     "output_type": "stream",
     "text": [
      "[3.141592653589793, 22026.465794806703, 1385.4557313670107, 362880]\n",
      "[3.142857142857143, 22000, 1400, 359536.87284194835]\n",
      "Error absoluto:    0.00126\n",
      "Error relativo:    0.00040\n",
      "Error absoluto:   26.46579\n",
      "Error relativo:    0.00120\n",
      "Error absoluto:   14.54427\n",
      "Error relativo:    0.01050\n",
      "Error absoluto: 3343.12716\n",
      "Error relativo:    0.00921\n"
     ]
    }
   ],
   "source": [
    "Ea = lambda e, a: np.fabs(e - a)\n",
    "Er = lambda e, a: np.fabs(e - a) / np.fabs(e)\n",
    "\n",
    "p = [np.pi, np.exp(1)**10, 10**np.pi, np.math.factorial(9)]\n",
    "pa = [22/7, 22000, 1400, np.sqrt(18 * np.pi)*(9/np.exp(1))**9]\n",
    "\n",
    "print(p)\n",
    "print(pa)\n",
    "for e,a in zip(p, pa):\n",
    "    print('Error absoluto: {:10.5f}'.format(Ea(e,a)))\n",
    "    print('Error relativo: {:10.5f}'.format(Er(e,a)))\n"
   ]
  },
  {
   "cell_type": "markdown",
   "metadata": {},
   "source": [
    "¿En qué intervalo la derivada de las siguientes funciones se hace cero?\n",
    "\n",
    "a. $f(x) = 1 − e^x + (e − 1)\\sin(\\frac{\\pi x}{2}), $ <br>\n",
    "b. $f(x) = (x − 1)\\tan x + x \\sin \\pi x, $ <br>\n",
    "c. $f(x) = x \\sin \\pi x − (x − 2) \\ln x, $ <br>\n",
    "d. $f(x) = (x − 2) \\sin x \\ln(x + 2), $ <br>\n",
    "\n",
    "**Realizar lo siguiente**:\n",
    "- Grafique las siguientes funciones para mostrar que su derivada se hace cero en los intervalos proporcionados.\n",
    "- Muestre que $f^\\prime(x)$ se hace cero en los intervalos correspondientes.\n"
   ]
  },
  {
   "cell_type": "code",
   "execution_count": 30,
   "metadata": {},
   "outputs": [
    {
     "data": {
      "image/png": "[encoded data removed]",
      "text/plain": [
       "<Figure size 432x288 with 1 Axes>"
      ]
     },
     "metadata": {
      "needs_background": "light"
     },
     "output_type": "display_data"
    }
   ],
   "source": [
    "y0 = lambda x: 1 - np.exp(x) + (np.exp(1) - 1)*np.sin(np.pi*x/2)\n",
    "y1 = lambda x: (x-1)*np.tan(x)+ x * np.sin(np.pi * x)\n",
    "y2 = lambda x: x * np.sin(np.pi * x)-(x-2)* np.log(x)\n",
    "y3 = lambda x: (x-2)*np.sin(x)*np.log(x+2)\n",
    "x = np.linspace(-1,0,100)\n",
    "#plt.plot(x,y0(x))\n",
    "#plt.plot(x,y1(x))\n",
    "#plt.plot(x,y2(x))\n",
    "plt.plot(x,y3(x))\n",
    "plt.grid()"
   ]
  },
  {
   "cell_type": "markdown",
   "metadata": {},
   "source": [
    "El polinomio de Taylor de grado $n$ de la función $f(x) = e^x$ es \n",
    "$\\displaystyle P_n(x) = \\sum_{i=0}^n \\frac{x^i}{i!}$. Usando el Polinomio de Taylor de grado $9$ podemos aproximar $e^{-5}$ usando los siguientes dos métodos:\n",
    "\n",
    "a. $\\displaystyle e^{-5} \\approx \\sum_{i=0}^n \\frac{(-5)^i}{i!} = \\sum_{i=0}^n \\frac{(-1)^i 5^i}{i!}$ <br>\n",
    "\n",
    "b. $\\displaystyle e^{-5} = \\frac{1}{e^5} \\approx \\frac{1}{\\sum_{i=0}^n \\frac{5^i}{i!}}$\n",
    "\n",
    "¿Cuál de los dos fórmulas anteriores da una mejor aproximación? ¿Por qué?"
   ]
  },
  {
   "cell_type": "code",
   "execution_count": 103,
   "metadata": {},
   "outputs": [],
   "source": [
    "def aprox_a(x,n):\n",
    "    suma = 0\n",
    "    for i in range(0,n+1):\n",
    "        suma += (-1)**i * 5**i/ np.math.factorial(i)\n",
    "    return suma    \n",
    "\n",
    "def aprox_b(x,n):\n",
    "    suma = 0\n",
    "    for i in range(0,n+1):\n",
    "        suma += (5)**i / np.math.factorial(i)\n",
    "    return 1 / suma "
   ]
  },
  {
   "cell_type": "code",
   "execution_count": 124,
   "metadata": {},
   "outputs": [
    {
     "name": "stdout",
     "output_type": "stream",
     "text": [
      "e = 0.0067379469990854670008451066109955718275159597396850586\n",
      "e = 0.0067455400977118173261315448030472907703369855880737305\n",
      "e = 0.0067379475454825100630418255320819298503920435905456543\n"
     ]
    }
   ],
   "source": [
    "x = -5\n",
    "n = 20\n",
    "e1 = aprox_a(x,n)\n",
    "e2 = aprox_b(x,n)\n",
    "\n",
    "print('e = {:.55f}'.format(np.exp(-5)))\n",
    "print('e = {:.55f}'.format(e1))\n",
    "print('e = {:.55f}'.format(e2))"
   ]
  },
  {
   "cell_type": "code",
   "execution_count": null,
   "metadata": {},
   "outputs": [],
   "source": []
  }
 ],
 "metadata": {
  "kernelspec": {
   "display_name": "Python 3",
   "language": "python",
   "name": "python3"
  },
  "language_info": {
   "codemirror_mode": {
    "name": "ipython",
    "version": 3
   },
   "file_extension": ".py",
   "mimetype": "text/x-python",
   "name": "python",
   "nbconvert_exporter": "python",
   "pygments_lexer": "ipython3",
   "version": "3.7.6"
  }
 },
 "nbformat": 4,
 "nbformat_minor": 4
}
