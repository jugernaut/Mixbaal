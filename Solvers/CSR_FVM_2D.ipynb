{
 "cells": [
  {
   "cell_type": "code",
   "execution_count": null,
   "metadata": {},
   "outputs": [],
   "source": [
    "import numpy as np\n",
    "import matplotlib.pyplot as plt\n",
    "%matplotlib inline"
   ]
  },
  {
   "cell_type": "code",
   "execution_count": null,
   "metadata": {},
   "outputs": [],
   "source": [
    "X = 1000\n",
    "N = 10\n",
    "x = np.linspace(0,X,N)\n",
    "y1 = 5 * x * x\n",
    "y2 = 5 * x * x - 4 * x\n",
    "ea= y1 - y2\n",
    "error = y1[-1]-y2[-1]\n",
    "print('Mesh size :', X * X)\n",
    "print(100 * error / np.max(y1))\n",
    "print(error)\n",
    "print('Kbytes', error * 8 * 8 / 1024)\n",
    "plt.plot(x, y1,'-o')\n",
    "plt.plot(x, y2,'-s')\n",
    "plt.plot(x, ea,'-v')\n",
    "plt.grid()"
   ]
  },
  {
   "cell_type": "code",
   "execution_count": null,
   "metadata": {},
   "outputs": [],
   "source": [
    "y3 = 7 * x * x * x\n",
    "y4 = 7 * x * x * x - 6 * x * x\n",
    "ea = y3 - y4\n",
    "error = y3[-1]-y4[-1]\n",
    "print('Mesh size :', X * X * X)\n",
    "print(100 * error / np.max(y3))\n",
    "print(error)\n",
    "print('Mbytes', error * 8 * 8 / (1024 * 1024))\n",
    "plt.plot(x, y3,'-o')\n",
    "plt.plot(x, y4,'-s')\n",
    "plt.plot(x, ea,'-v')\n",
    "plt.grid()"
   ]
  },
  {
   "cell_type": "code",
   "execution_count": null,
   "metadata": {},
   "outputs": [],
   "source": [
    "def aS(i,j):\n",
    "    return 1 #-2\n",
    "\n",
    "def aW (i,j):\n",
    "    return 1 #-1\n",
    "\n",
    "def aP(i,j):\n",
    "    return 1 #5\n",
    "\n",
    "def aE(i,j):\n",
    "    return 1\n",
    "\n",
    "def aN(i,j):\n",
    "    return 1 #2"
   ]
  },
  {
   "cell_type": "code",
   "execution_count": null,
   "metadata": {},
   "outputs": [],
   "source": [
    "Nx = 3\n",
    "Ny = 4\n",
    "\n",
    "Nd = 5\n",
    "\n",
    "N = Nx * Ny\n",
    "Nzeros = Nd * N\n",
    "\n",
    "AA = np.zeros(Nzeros)\n",
    "JA = np.zeros(Nzeros, dtype=int)\n",
    "IA = np.zeros(N+1, dtype=int)"
   ]
  },
  {
   "cell_type": "code",
   "execution_count": null,
   "metadata": {},
   "outputs": [],
   "source": [
    "bi = 1\n",
    "ei = Nx\n",
    "bj = 1\n",
    "ej = Ny"
   ]
  },
  {
   "cell_type": "code",
   "execution_count": null,
   "metadata": {},
   "outputs": [],
   "source": [
    "#\n",
    "# Compressed Sparse Row (CSR) or Compressed Row Storage (CRS)\n",
    "#\n",
    "I = 0\n",
    "irow = 0\n",
    "IA[irow] = I\n",
    "\n",
    "for j in range(bi,ei+1):\n",
    "    for i in range(bj,ej+1):\n",
    "        \n",
    "        # S\n",
    "        AA[I] = aS(i,j)\n",
    "        JA[I] = irow - Nx\n",
    "        \n",
    "        # W\n",
    "        I += 1 \n",
    "        AA[I] = aW(i,j)\n",
    "        JA[I] = irow - 1\n",
    "        \n",
    "        # P\n",
    "        I += 1 \n",
    "        AA[I] = aP(i,j)\n",
    "        JA[I] = irow\n",
    "        \n",
    "        # E\n",
    "        I += 1\n",
    "        AA[I] = aE(i,j)\n",
    "        JA[I] = irow + 1\n",
    "        \n",
    "        #N\n",
    "        I += 1\n",
    "        AA[I] = aN(i,j)\n",
    "        JA[I] = irow + Nx\n",
    "        \n",
    "        #######\n",
    "        I += 1\n",
    "        irow += 1\n",
    "        IA[irow] = I\n",
    "\n",
    "#-----------+\n",
    "# * * P E N |\n",
    "# * W P E N |\n",
    "# * W P E N |\n",
    "# ...       \n",
    "# * W P E N |\n",
    "# * W P * N |\n",
    "#-----------+\n",
    "I = 0 # S primero\n",
    "for i in range(bi,ei+1):\n",
    "    AA[IA[I]] = 0\n",
    "    JA[IA[I]] = 0\n",
    "    I += 1\n",
    "AA[1] = 0 # W segundo\n",
    "JA[1] = 0 # W segundo\n",
    "\n",
    "#-----------+\n",
    "# S * P E * |\n",
    "# S W P E * |\n",
    "# S W P E * |\n",
    "# ...       \n",
    "# S W P E * |\n",
    "# S W P * * |\n",
    "#-----------+\n",
    "I = IA[-1]-1 # N ultimo\n",
    "for i in range(bi,ei+1):\n",
    "    AA[I] = 0\n",
    "    JA[I] = N-1\n",
    "    I -= Nd\n",
    "AA[-2] = 0 # E penultimo\n",
    "JA[-2] = N-1 # E penuñtimo\n"
   ]
  },
  {
   "cell_type": "code",
   "execution_count": null,
   "metadata": {},
   "outputs": [],
   "source": [
    "I = 0\n",
    "print('-'* 45)\n",
    "print('|{:>3} | {:>5} | {:>5} {:>5} {:>5} {:>5} {:>5} |'.format('I','IA','S','W','P','E','N'))\n",
    "print('-'* 45)\n",
    "for i in range(0,N):\n",
    "    print('|{:>3} | {:>5} | {:>5} {:>5} {:>5} {:>5} {:>5} |'.format(i, 'AA ->', AA[I], AA[I+1], AA[I+2], AA[I+3], AA[I+4]))\n",
    "    print('|{:>3} | IA{:>3} | {:>5} {:>5} {:>5} {:>5} {:>5} |'.format(i, IA[i], JA[I], JA[I+1], JA[I+2], JA[I+3], JA[I+4]))\n",
    "    print('-'*45)\n",
    "    I += Nd\n",
    "    "
   ]
  },
  {
   "cell_type": "code",
   "execution_count": null,
   "metadata": {},
   "outputs": [],
   "source": [
    "def matvec(val, col_ind, row_ptr, x):\n",
    "    N = len(row_ptr)-1\n",
    "    y = np.zeros(N)\n",
    "    for i in range(0,N):\n",
    "        y[i] = 0\n",
    "        for j in range(row_ptr[i],row_ptr[i+1]):\n",
    "            y[i] = y[i] + val[j] * x[col_ind[j]]\n",
    "    return y"
   ]
  },
  {
   "cell_type": "code",
   "execution_count": null,
   "metadata": {},
   "outputs": [],
   "source": [
    "vec = np.ones(N)\n",
    "matvec(AA,JA,IA,vec)"
   ]
  },
  {
   "cell_type": "code",
   "execution_count": null,
   "metadata": {},
   "outputs": [],
   "source": []
  }
 ],
 "metadata": {
  "kernelspec": {
   "display_name": "Python 3",
   "language": "python",
   "name": "python3"
  },
  "language_info": {
   "codemirror_mode": {
    "name": "ipython",
    "version": 3
   },
   "file_extension": ".py",
   "mimetype": "text/x-python",
   "name": "python",
   "nbconvert_exporter": "python",
   "pygments_lexer": "ipython3",
   "version": "3.7.2"
  }
 },
 "nbformat": 4,
 "nbformat_minor": 2
}
