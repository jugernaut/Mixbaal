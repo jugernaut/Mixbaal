{
 "cells": [
  {
   "cell_type": "markdown",
   "metadata": {},
   "source": [
    "# Cruce de rectas\n",
    "\n",
    "Tenemos las ecuaciones de dos rectas:\n",
    "\n",
    "$\n",
    "\\begin{matrix}\n",
    "a_{00} x_0 + a_{01} x_1 & = &b_0 \\\\\n",
    "a_{01} x_0 + a_{11} x_1 & = &b_1\n",
    "\\end{matrix}\n",
    "$\n",
    "\n",
    "y en forma matricial se escriben como:\n",
    "\n",
    "$\n",
    "\\left[\n",
    "\\begin{array}{cccc}\n",
    "a_{00} & a_{01} \\\\\n",
    "a_{01} & a_{11}\n",
    "\\end{array} \\right] \n",
    "\\left[\n",
    "\\begin{array}{cccc}\n",
    "x_{0} \\\\\n",
    "x_{1}\n",
    "\\end{array} \\right] \n",
    "=\n",
    "\\left[\n",
    "\\begin{array}{c}\n",
    "b_0 \\\\ b_1\n",
    "\\end{array}\n",
    "\\right]\n",
    "$\n",
    "\n",
    "Para encontrar el punto de cruce de las dos rectas, debemos resolver el sistema de ecuaciones.\n",
    "\n",
    "## Ejemplo: \n",
    "$\n",
    "\\begin{array}{ccc}\n",
    "3x_0 + 2x_1 & = &2 \\\\\n",
    "2x_0 + 6x_1 & = &-8\n",
    "\\end{array} \\Longrightarrow\n",
    "\\left[\n",
    "\\begin{array}{cc}\n",
    "3 & 2 \\\\\n",
    "2 & 6\n",
    "\\end{array} \\right]\n",
    "\\left[\n",
    "\\begin{array}{cccc}\n",
    "x_{0} \\\\\n",
    "x_{1}\n",
    "\\end{array} \\right] \n",
    "=\n",
    "\\left[\n",
    "\\begin{array}{c}\n",
    "2\\\\ -8\n",
    "\\end{array}\n",
    "\\right]\n",
    "$\n",
    "\n",
    "Las ecuaciones de las rectas se pueden escribir como:\n",
    "\n",
    "$\n",
    "\\begin{array}{ccc}\n",
    "\\dfrac{3}{2}x_0 + x_1 & = & \\dfrac{2}{2} \\\\\n",
    "\\dfrac{2}{6}x_0 + x_1 & = & -\\dfrac{8}{6}\n",
    "\\end{array} \\Longrightarrow\n",
    "\\begin{array}{ccc}\n",
    "y_0 = m_0 x + b_0 \\\\\n",
    "y_1 = m_1 x + b_1\n",
    "\\end{array} \\text{ donde }\n",
    "\\begin{array}{ccc}\n",
    "m_0 = -\\dfrac{3}{2} & b_0 = 1 \\\\\n",
    "m_1 = -\\dfrac{2}{6} & b_1 = -\\dfrac{8}{6}\n",
    "\\end{array}\n",
    "$\n"
   ]
  },
  {
   "cell_type": "code",
   "execution_count": 3,
   "metadata": {},
   "outputs": [
    {
     "data": {
      "text/plain": [
       "<matplotlib.legend.Legend at 0x7f6458ee20d0>"
      ]
     },
     "execution_count": 3,
     "metadata": {},
     "output_type": "execute_result"
    },
    {
     "data": {
      "image/png": "[encoded data removed]",
      "text/plain": [
       "<Figure size 432x288 with 1 Axes>"
      ]
     },
     "metadata": {
      "needs_background": "light"
     },
     "output_type": "display_data"
    }
   ],
   "source": [
    "import numpy as np\n",
    "import matplotlib.pyplot as plt\n",
    "%matplotlib inline\n",
    "\n",
    "m0 = -3/2\n",
    "b0 = 1\n",
    "m1 = -2/6\n",
    "b1 = -8/6\n",
    "x = np.linspace(0,3,10)\n",
    "y0 = m0 * x + b0\n",
    "y1 = m1 * x + b1 \n",
    "plt.plot(x,y0,label = '$3x_0+2x_1=2$')\n",
    "plt.plot(x,y1,label = '$2x_0+6x_1=-8$')\n",
    "plt.ylim(-3,0)\n",
    "plt.xlabel('$x_0$')\n",
    "plt.ylabel('$x_1$')\n",
    "plt.title('Cruce de rectas')\n",
    "plt.grid()\n",
    "plt.legend()\n"
   ]
  },
  {
   "cell_type": "code",
   "execution_count": 4,
   "metadata": {
    "scrolled": true
   },
   "outputs": [
    {
     "name": "stdout",
     "output_type": "stream",
     "text": [
      "Matriz A : \n",
      " [[3 2]\n",
      " [2 6]]\n",
      "Vector b : \n",
      " [ 2 -8]\n",
      "Solución del sistema:  [ 2. -2.]\n"
     ]
    },
    {
     "data": {
      "text/plain": [
       "<matplotlib.legend.Legend at 0x7f64305dfc10>"
      ]
     },
     "execution_count": 4,
     "metadata": {},
     "output_type": "execute_result"
    },
    {
     "data": {
      "image/png": "[encoded data removed]",
      "text/plain": [
       "<Figure size 432x288 with 1 Axes>"
      ]
     },
     "metadata": {
      "needs_background": "light"
     },
     "output_type": "display_data"
    }
   ],
   "source": [
    "A = np.matrix([[3, 2],[2,6]] )\n",
    "b = np.array([2,-8])\n",
    "print(\"Matriz A : \\n\",A)\n",
    "print(\"Vector b : \\n\", b)\n",
    "sol = np.linalg.solve(A,b)\n",
    "print(\"Solución del sistema: \", sol)\n",
    "\n",
    "plt.plot(x,y0,label = '$3x_0+2x_1=2$')\n",
    "plt.plot(x,y1,label = '$2x_0+6x_1=-8$')\n",
    "plt.plot(sol[0],sol[1],'ro')\n",
    "plt.ylim(-3,0)\n",
    "plt.xlabel('$x_0$')\n",
    "plt.ylabel('$x_1$')\n",
    "plt.title('Cruce de rectas')\n",
    "plt.grid()\n",
    "plt.legend()"
   ]
  },
  {
   "cell_type": "markdown",
   "metadata": {},
   "source": [
    "# Jacobi"
   ]
  },
  {
   "cell_type": "code",
   "execution_count": 5,
   "metadata": {},
   "outputs": [],
   "source": [
    "def jacobi(A,b,tol,kmax):\n",
    "    N = len(b)\n",
    "    xnew = np.zeros(N)\n",
    "    xold = np.zeros(N)\n",
    "    error = 10\n",
    "    k = 0\n",
    "    while(error > tol and k < kmax) :\n",
    "        for i in range(0,N): # se puede hacer en paralelo\n",
    "            xnew[i] = 0\n",
    "            for j in range(0,i):\n",
    "                xnew[i] += A[i,j] * xold[j]\n",
    "            for j in range(i+1,N):\n",
    "                xnew[i] += A[i,j] * xold[j]                \n",
    "            xnew[i] = (b[i] - xnew[i]) / A[i,i]\n",
    "        error = np.linalg.norm(xnew-xold)\n",
    "        k += 1\n",
    "        xold[:] = xnew[:]\n",
    "        print(k, error)\n",
    "    return xnew, error, k"
   ]
  },
  {
   "cell_type": "code",
   "execution_count": 6,
   "metadata": {},
   "outputs": [
    {
     "name": "stdout",
     "output_type": "stream",
     "text": [
      "1 1.4907119849998598\n",
      "2 0.9162456945817022\n",
      "3 0.33126932999996883\n",
      "4 0.20361015435148977\n",
      "5 0.0736154066666598\n",
      "6 0.04524670096699795\n",
      "7 0.016358979259257733\n",
      "8 0.010054822437110403\n",
      "9 0.003635328724279497\n",
      "10 0.002234404986024193\n",
      "11 0.0008078508276176108\n",
      "12 0.0004965344413387215\n",
      "13 0.00017952240613725788\n",
      "14 0.00011034098696408254\n",
      "15 3.989386803054588e-05\n",
      "16 2.4520219325435447e-05\n",
      "17 8.865304006732806e-06\n",
      "18 5.448937627455682e-06\n",
      "19 1.970067556985534e-06\n",
      "20 1.2108750279824113e-06\n",
      "21 4.377927903529618e-07\n",
      "22 2.6908333923450834e-07\n",
      "23 9.728728666786823e-08\n",
      "[ 1.99999991 -1.99999996] 9.728728666786823e-08 23\n"
     ]
    }
   ],
   "source": [
    "sol, e, it = jacobi(A,b,1e-7,100)\n",
    "print(sol, e, it)"
   ]
  },
  {
   "cell_type": "markdown",
   "metadata": {},
   "source": [
    "# Gauss-Seidel"
   ]
  },
  {
   "cell_type": "code",
   "execution_count": 7,
   "metadata": {},
   "outputs": [],
   "source": [
    "def gauss_seidel(A,b,tol,kmax):\n",
    "    N = len(b)\n",
    "    xnew = np.zeros(N)\n",
    "    xold = np.zeros(N)\n",
    "    error = 10\n",
    "    k = 0\n",
    "    while(error > tol and k < kmax) :\n",
    "        for i in range(0,N): # se puede hacer en paralelo\n",
    "            xnew[i] = 0\n",
    "            for j in range(0,i):\n",
    "                xnew[i] += A[i,j] * xnew[j]\n",
    "            for j in range(i+1,N):\n",
    "                xnew[i] += A[i,j] * xold[j]                \n",
    "            xnew[i] = (b[i] - xnew[i]) / A[i,i]\n",
    "        error = np.linalg.norm(xnew-xold)\n",
    "        k += 1\n",
    "        xold[:] = xnew[:]\n",
    "        print(k, error)\n",
    "    return xnew, error, k"
   ]
  },
  {
   "cell_type": "code",
   "execution_count": 9,
   "metadata": {},
   "outputs": [
    {
     "name": "stdout",
     "output_type": "stream",
     "text": [
      "1 1.692394023525313\n",
      "2 1.0931330183298098\n",
      "3 0.24291844851773545\n",
      "4 0.05398187744838608\n",
      "5 0.011995972766308316\n",
      "6 0.002665771725846191\n",
      "7 0.0005923937168546622\n",
      "8 0.00013164304818982352\n",
      "9 2.925401070900571e-05\n",
      "10 6.500891268761557e-06\n",
      "11 1.444642504122424e-06\n",
      "12 3.210316670210275e-07\n",
      "13 7.134037081580428e-08\n",
      "[ 1.99999998 -1.99999999] 7.134037081580428e-08 13\n"
     ]
    }
   ],
   "source": [
    "sol, e, it = gauss_seidel(A,b,1e-7,100)\n",
    "print(sol, e, it)"
   ]
  },
  {
   "cell_type": "markdown",
   "metadata": {},
   "source": [
    "# SOR"
   ]
  },
  {
   "cell_type": "code",
   "execution_count": 10,
   "metadata": {},
   "outputs": [],
   "source": [
    "def sor(A,b,tol,kmax,w):\n",
    "    N = len(b)\n",
    "    xnew = np.zeros(N)\n",
    "    xold = np.zeros(N)\n",
    "    error = 10\n",
    "    k = 0\n",
    "    while(error > tol and k < kmax) :\n",
    "        for i in range(0,N): # se puede hacer en paralelo\n",
    "            sigma = 0\n",
    "            for j in range(0,i):\n",
    "                sigma += A[i,j] * xnew[j]\n",
    "            for j in range(i+1,N):\n",
    "                sigma += A[i,j] * xold[j]                \n",
    "            sigma = (b[i] - sigma) / A[i,i]\n",
    "            xnew[i] = xold[i] + w * (sigma -xold[i])\n",
    "        error = np.linalg.norm(xnew-xold)\n",
    "        k += 1\n",
    "        xold[:] = xnew[:]\n",
    "        print(k, error)\n",
    "    return xnew, error, k"
   ]
  },
  {
   "cell_type": "code",
   "execution_count": 11,
   "metadata": {},
   "outputs": [
    {
     "name": "stdout",
     "output_type": "stream",
     "text": [
      "1 1.692394023525313\n",
      "2 1.0931330183298098\n",
      "3 0.24291844851773567\n",
      "4 0.05398187744838608\n",
      "5 0.011995972766308316\n",
      "6 0.002665771725846191\n",
      "7 0.0005923937168546622\n",
      "8 0.00013164304818982352\n",
      "9 2.925401070900571e-05\n",
      "10 6.500891268761557e-06\n",
      "11 1.444642504122424e-06\n",
      "12 3.210316670210275e-07\n",
      "13 7.134037081580428e-08\n",
      "[ 1.99999998 -1.99999999] 7.134037081580428e-08 13\n"
     ]
    }
   ],
   "source": [
    "sol, e, it = sor(A,b,1e-7,100,1.0)\n",
    "print(sol, e, it)"
   ]
  },
  {
   "cell_type": "code",
   "execution_count": null,
   "metadata": {},
   "outputs": [],
   "source": [
    "def Laplaciano2D(Nx, Ny, diagonal):\n",
    "    \"\"\" Esta funcion calcula los coeficientes del \n",
    "    sistema lineal producido por el operador de \n",
    "    Laplace en 2D. Estos coeficientes son almacenados \n",
    "    en la matriz pentadiagonal correspondiente.\"\"\"\n",
    "    N = Nx * Ny\n",
    "    A = np.zeros((N,N))\n",
    "\n",
    "# Primero llena los bloques tridiagonales\n",
    "    for j in range(0,Ny):\n",
    "        ofs = Nx * j\n",
    "        A[ofs, ofs] = diagonal; \n",
    "        A[ofs, ofs + 1] = 1\n",
    "        for i in range(1,Nx-1):\n",
    "            A[ofs + i, ofs + i]     = diagonal\n",
    "            A[ofs + i, ofs + i + 1] = 1\n",
    "            A[ofs + i, ofs + i - 1] = 1\n",
    "            A[ofs + Nx - 1, ofs + Nx - 2] = 1; \n",
    "            A[ofs + Nx - 1, ofs + Nx - 1] = diagonal \n",
    "\n",
    "# Despues llena las dos diagonales externas\n",
    "    for k in range(0,N-Nx):\n",
    "        A[k, Nx + k] = 1\n",
    "        A[Nx + k, k] = 1\n",
    "\n",
    "    return A\n",
    "\n",
    "def GraficaSuperficieC(xg,yg,u):\n",
    "    plt.contourf(xg, yg, u, 8, alpha=.75, cmap=plt.cm.hot)\n",
    "    C = plt.contour(xg, yg, u, 8, colors='black')\n",
    "    plt.clabel(C, inline=1, fontsize=10)\n",
    "\n",
    "    plt.show()"
   ]
  },
  {
   "cell_type": "code",
   "execution_count": null,
   "metadata": {},
   "outputs": [],
   "source": [
    "import time\n",
    "\n",
    "Nx = 11\n",
    "Ny = 11\n",
    "boundA = 100\n",
    "boundB = -25\n",
    "boundC = 34\n",
    "boundD = 7\n",
    "\n",
    "f = np.zeros((Ny,Nx)) # RHS\n",
    "A = Laplaciano2D(Nx, Ny,-4) # Matriz del sistema\n",
    "\n",
    "# Aplicacion de las condiciones de frontera Dirichlet\n",
    "f[0   ,:] -= boundA # Bottom wall    \n",
    "f[Ny-1,:] -= boundB # Upper wall\n",
    "f[:,0   ] -= boundC # Left wall \n",
    "f[:,Nx-1] -= boundD # Right wall\n",
    "\n",
    "# La solucion sera guardada en el arreglo u, que es de tamanio Ny+2 x Nx+2, pues incluye las fronteras\n",
    "u = np.zeros((Ny+2, Nx+2))\n",
    "\n",
    "# Se utiliza un algoritmo del paquete linalg para obtener la solucion del sistema de N x N\n",
    "ut = np.copy(u[1:Ny+1,1:Nx+1])\n",
    "ut.shape = ut.size   # Cambiamos los arreglos a formato unidimensional\n",
    "f.shape = f.size     # Cambiamos los arreglos a formato unidimensional\n",
    "\n",
    "error = 0\n",
    "it = 0\n",
    "t1 = time.clock()\n",
    "#ut = np.linalg.solve(A,f)\n",
    "#ut,error,it = jacobi(A,f,1e-6,100)\n",
    "#ut,error,it = gauss_seidel(A,f,1e-6,100)\n",
    "ut,error,it = sor(A,f,1.0e-5,100,1.5)\n",
    "t2 = time.clock()\n",
    "te = t2 - t1\n",
    "print(\" Elapsed time to solve Ax = b : %g\" % te)\n",
    "print(\" error : %g, iteraciones : %d\" % (error, it))\n",
    "\n",
    "u[Ny+1,:   ] = boundB \n",
    "u[:   ,0   ] = boundC \n",
    "u[:   ,Nx+1] = boundD\n",
    "u[0   ,:   ] = boundA\n",
    "\n",
    "ut.shape = (Ny, Nx) # Regresamos el arreglo a formato bidimensional\n",
    "u[1:Ny+1,1:Nx+1] = ut\n",
    "\n",
    "x = np.linspace(0,1,Nx+2)\n",
    "y = np.linspace(0,1,Ny+2)\n",
    "xg, yg = np.meshgrid(x,y)\n",
    "\n",
    "GraficaSuperficieC(xg,yg,u)\n"
   ]
  },
  {
   "cell_type": "code",
   "execution_count": null,
   "metadata": {},
   "outputs": [],
   "source": []
  }
 ],
 "metadata": {
  "kernelspec": {
   "display_name": "Python 3",
   "language": "python",
   "name": "python3"
  },
  "language_info": {
   "codemirror_mode": {
    "name": "ipython",
    "version": 3
   },
   "file_extension": ".py",
   "mimetype": "text/x-python",
   "name": "python",
   "nbconvert_exporter": "python",
   "pygments_lexer": "ipython3",
   "version": "3.8.5"
  }
 },
 "nbformat": 4,
 "nbformat_minor": 2
}
